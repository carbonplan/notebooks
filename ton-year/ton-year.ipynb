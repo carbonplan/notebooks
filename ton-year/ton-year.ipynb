{
 "cells": [
  {
   "cell_type": "code",
   "execution_count": 1,
   "id": "6d91683c",
   "metadata": {},
   "outputs": [],
   "source": [
    "%matplotlib inline\n",
    "\n",
    "import logging\n",
    "import matplotlib.pyplot as plt\n",
    "import numpy as np\n",
    "import pandas as pd\n",
    "import math"
   ]
  },
  {
   "cell_type": "markdown",
   "id": "6069bfcb",
   "metadata": {},
   "source": [
    "# Carbon Impulse Response Function (i.e. the baseline curve)"
   ]
  },
  {
   "cell_type": "markdown",
   "id": "c305a0db",
   "metadata": {},
   "source": [
    "This section models two Impulse Reponse Functions (IRFs). An IRF represents the time-dependent fraction of an  emission pulse remaining in the atmosphere at time t. It is convenient to describe the IRF for a particular gas X by exponential functions:\n",
    "\n",
    "$ IRF_x(t) = a_{x,0} + \\sum_{i=1}^{3} a_{x,i} * e^{-t / tau_i} $\n",
    "\n",
    "The $a$ and $tau$ parameters for CO2 can be taken from literature: \n",
    "\n",
    "- Joos, F., Roth, R., Fuglestvedt, J. S., Peters, G. P., Enting, I. G., von Bloh, W., Brovkin, V., Burke, E. J., Eby, M., Edwards, N. R., Friedrich, T., Frölicher, T. L., Halloran, P. R., Holden, P. B., Jones, C., Kleinen, T., Mackenzie, F. T., Matsumoto, K., Meinshausen, M., Plattner, G.-K., Reisinger, A., Segschneider, J., Shaffer, G., Steinacher, M., Strassmann, K., Tanaka, K., Timmermann, A., and Weaver, A. J.: Carbon dioxide and climate impulse response functions for the computation of greenhouse gas metrics: a multi-model analysis, Atmos. Chem. Phys., 13, 2793–2825, https://doi.org/10.5194/acp-13-2793-2013, 2013.\n",
    "\n",
    "- Forster, P., V. Ramaswamy, P. Artaxo, T. Berntsen, R. Betts, D.W. Fahey, J. Haywood, J. Lean, D.C. Lowe, G. Myhre, J. Nganga, R. Prinn, G. Raga, M. Schulz and R. Van Dorland, 2007: Changes in Atmospheric Constituents and in Radiative Forcing. In: Climate Change 2007: The Physical Science Basis. Contribution of Working Group I to the Fourth Assessment Report of the Intergovernmental Panel on Climate Change [Solomon, S., D. Qin, M. Manning, Z. Chen, M. Marquis, K.B. Averyt, M.Tignor and H.L. Miller (eds.)]: https://www.ipcc.ch/site/assets/uploads/2018/02/ar4-wg1-chapter2-1.pdf (pg. 2013)\n",
    "\n",
    "- IPCC: Special Report on Land Use, Land‐Use Change, and Forestry, Section 2.3.6.3, 2000, https://archive.ipcc.ch/ipccreports/sres/land_use/index.php?idp=74 and footnote https://archive.ipcc.ch/ipccreports/sres/land_use/fn3.htm#4\n"
   ]
  },
  {
   "cell_type": "code",
   "execution_count": 2,
   "id": "145ab4ce",
   "metadata": {},
   "outputs": [],
   "source": [
    "def IRF(t_horizon, curve):\n",
    "    \n",
    "    if curve == 'joos_2013':\n",
    "        # parameters from Joos et al, 2013 (Table 5)\n",
    "        a = [0.2173, 0.2240, 0.2824, 0.2763]\n",
    "        tau = [0, 394.4, 36.54, 4.304]\n",
    "    elif curve == 'ipcc_2007':\n",
    "        # parameters from IPCC 2007 (page 213)\n",
    "        a = [0.217, 0.259, 0.338, 0.186]\n",
    "        tau = [0, 172.9, 18.51, 1.186]\n",
    "    elif curve == 'ipcc_2000':\n",
    "        # parameters from IPCC Special Report 2000\n",
    "        a = [0.175602, 0.137467, 0.18576, 0.242302, 0.258868]\n",
    "        tau = [0, 421.093, 70.5965, 21.42165, 3.41537]\n",
    "\n",
    "    IRF = [a[0]] * len(t_horizon)\n",
    "    for t in t_horizon:\n",
    "        for i in np.arange(1,len(a)):\n",
    "            IRF[t] =  IRF[t] + (a[i] * np.exp(-t/tau[i]))\n",
    "    \n",
    "    return IRF"
   ]
  },
  {
   "cell_type": "code",
   "execution_count": 3,
   "id": "0137126e",
   "metadata": {},
   "outputs": [
    {
     "data": {
      "text/plain": [
       "<matplotlib.legend.Legend at 0x7f15782f37c0>"
      ]
     },
     "execution_count": 3,
     "metadata": {},
     "output_type": "execute_result"
    },
    {
     "data": {
      "image/png": "[encoded data removed]",
      "text/plain": [
       "<Figure size 432x288 with 1 Axes>"
      ]
     },
     "metadata": {
      "needs_background": "light"
     },
     "output_type": "display_data"
    }
   ],
   "source": [
    "t_horizon = np.arange(1001)\n",
    "ipcc_2000 = IRF(t_horizon, 'ipcc_2000')\n",
    "ipcc_2007 = IRF(t_horizon, 'ipcc_2007')\n",
    "joos_2013 = IRF(t_horizon, 'joos_2013')\n",
    "plt.plot(t_horizon, ipcc_2000, label='ipcc_2000')\n",
    "plt.plot(t_horizon, ipcc_2007, label='ipcc_2007')\n",
    "plt.plot(t_horizon, joos_2013, label='joos_2013')\n",
    "plt.legend()"
   ]
  },
  {
   "cell_type": "markdown",
   "id": "688d6637",
   "metadata": {},
   "source": [
    "Joos et al. (2013) report the following time-dependent fractions of an original pulse of CO2 remaining in the atmosphere in their results, section 4.1: \n",
    "- 0.6 +- 0.14 at year 20\n",
    "- 0.4 +- 0.13 at year 100\n",
    "- 0.25 +- 0.09 at year 1000\n",
    "\n",
    "We can compare that to the joos_2013 curve we generated above: "
   ]
  },
  {
   "cell_type": "code",
   "execution_count": 4,
   "id": "96249d2a",
   "metadata": {},
   "outputs": [
    {
     "name": "stdout",
     "output_type": "stream",
     "text": [
      "At t=20:   0.596\n",
      "At t=100:  0.409\n",
      "At t=1000: 0.235\n",
      "\n"
     ]
    }
   ],
   "source": [
    "for curve in [joos_2013]:\n",
    "    print('At t=20:   '+ str(round(curve[20],3)))\n",
    "    print('At t=100:  '+ str(round(curve[100],3)))\n",
    "    print('At t=1000: '+ str(round(curve[-1],3)))\n",
    "    print()"
   ]
  },
  {
   "cell_type": "markdown",
   "id": "87c6d042",
   "metadata": {},
   "source": [
    "--> **Flag: what's going on at t=1000?** <--"
   ]
  },
  {
   "cell_type": "markdown",
   "id": "f1b807e8",
   "metadata": {},
   "source": [
    "# Ton-year accounting methods"
   ]
  },
  {
   "cell_type": "markdown",
   "id": "cd048804",
   "metadata": {},
   "source": [
    "Some terms for interpreting the three ton-year accounting methods implemented below\n",
    "\n",
    "- *Baseline:* the curve atmospheric state-of affairs that is assumed to be the counterfaction to a project scenario\n",
    "- *Baseline atmospheric impact:* the integral of the baseline curve\n",
    "- *Scenario:* the curve representing what happens because of an intervention (could be representing carbon in a stock or carbon in the atmosphere depending on the method)\n",
    "- *Benefit:* the reduction in atmospheric impact as a result of the scenario intervention \n",
    "- *Equivalence factor:* the ratio between the benefit and the atmospheric impact of a single tCO2 released at t=0 under shared assumptions\n"
   ]
  },
  {
   "cell_type": "markdown",
   "id": "d5d2139a",
   "metadata": {},
   "source": [
    "Some helper functions:"
   ]
  },
  {
   "cell_type": "code",
   "execution_count": 5,
   "id": "357d6d11",
   "metadata": {},
   "outputs": [],
   "source": [
    "def discount(discount_rate, curve): \n",
    "    return [x/math.pow(1+discount_rate, i) for i,x in enumerate(curve)]"
   ]
  },
  {
   "cell_type": "code",
   "execution_count": 6,
   "id": "c916a769",
   "metadata": {},
   "outputs": [],
   "source": [
    "def print_benefit_report(method_output, plot):\n",
    "    print()\n",
    "    if method_output['discount_rate'] > 0: \n",
    "        baseline = method_output['baseline_discounted'] \n",
    "        scenario = method_output['scenario_discounted']\n",
    "        baseline_atm_impact = method_output['baseline_atm_impact_discounted'] \n",
    "        benefit = method_output['benefit_discounted']\n",
    "        equivalence = method_output['equivalence_factor']\n",
    "    else: \n",
    "        baseline = method_output['baseline'] \n",
    "        scenario = method_output['scenario']\n",
    "        baseline_atm_impact = method_output['baseline_atm_impact'] \n",
    "        benefit = method_output['benefit']\n",
    "        equivalence = method_output['equivalence_factor_discounted']\n",
    "\n",
    "    print('Baseline atmospheric impact: ' + str(round(baseline_atm_impact,2)) + ' ton-years')\n",
    "    print('Benefit from delay: ' + str(round(benefit,2)) + ' ton-years')\n",
    "    print('Equivalence factor: ' + str(round(benefit/baseline_atm_impact,2)) )\n",
    "\n",
    "    print()\n",
    "    if plot: \n",
    "        plot = plt.plot(baseline, label=\"baseline\")\n",
    "        plot = plt.plot(scenario, label=\"scenario\")\n",
    "        plot = plt.legend()"
   ]
  },
  {
   "cell_type": "markdown",
   "id": "18775185",
   "metadata": {},
   "source": [
    "### Moura-Costa method"
   ]
  },
  {
   "cell_type": "markdown",
   "id": "64bbc4bc",
   "metadata": {},
   "source": [
    "Method referenced IPCC Special report (2000) with outputs to check against: https://archive.ipcc.ch/ipccreports/sres/land_use/index.php?idp=74\n",
    "\n",
    "Method also described in Moura Costa and Wilson, 2000: https://oxfordclimatepolicy.org/sites/default/files/10.1023%252FA_1009697625521.pdf"
   ]
  },
  {
   "cell_type": "code",
   "execution_count": 7,
   "id": "814fa934",
   "metadata": {},
   "outputs": [],
   "source": [
    "def moura_costa(time_horizon, baseline, delay, scale, discount_rate):\n",
    "    t = np.arange(time_horizon+1)\n",
    "    baseline = baseline[0:time_horizon+1]\n",
    "    scenario = [-scale]*(delay+1) + [0]*(time_horizon-(delay))               \n",
    "    benefit = -np.trapz(scenario[:delay+1])\n",
    "    baseline_atm_impact = np.trapz(baseline)\n",
    "    equivalence_factor = benefit / baseline_atm_impact\n",
    "\n",
    "    baseline_discounted = discount(discount_rate, baseline)\n",
    "    scenario_discounted = discount(discount_rate, scenario)\n",
    "    benefit_discounted = -np.trapz(scenario_discounted[:delay+1])\n",
    "    baseline_atm_impact_discounted = np.trapz(baseline_discounted)\n",
    "    equivalence_factor_discounted = benefit_discounted / baseline_atm_impact_discounted\n",
    "    \n",
    "    return {'t': t,\n",
    "            'delay': delay,\n",
    "            'discount_rate': discount_rate,\n",
    "            'scenario': scenario, \n",
    "            'baseline': baseline, \n",
    "            'benefit': benefit, \n",
    "            'baseline_atm_impact': baseline_atm_impact, \n",
    "            'scenario_discounted': scenario_discounted,\n",
    "            'baseline_discounted': baseline_discounted,\n",
    "            'benefit_discounted': benefit_discounted, \n",
    "            'baseline_atm_impact_discounted': baseline_atm_impact_discounted,\n",
    "            'equivalence_factor': equivalence_factor,\n",
    "            'equivalence_factor_discounted': equivalence_factor_discounted}"
   ]
  },
  {
   "cell_type": "code",
   "execution_count": 9,
   "id": "e47ad230",
   "metadata": {},
   "outputs": [
    {
     "name": "stdout",
     "output_type": "stream",
     "text": [
      "\n",
      "Baseline atmospheric impact: 45.76 ton-years\n",
      "Benefit from delay: 46.0 ton-years\n",
      "Equivalence factor: 1.01\n",
      "\n"
     ]
    },
    {
     "data": {
      "image/png": "[encoded data removed]",
      "text/plain": [
       "<Figure size 432x288 with 1 Axes>"
      ]
     },
     "metadata": {
      "needs_background": "light"
     },
     "output_type": "display_data"
    }
   ],
   "source": [
    "time_horizon = 100\n",
    "delay = 46\n",
    "baseline = ipcc_2000\n",
    "scale = 1\n",
    "discount_rate = 0.0\n",
    "\n",
    "m = moura_costa(time_horizon, baseline, delay, scale, discount_rate)\n",
    "print_benefit_report(m, plot=True)\n",
    "\n",
    "plot = plt.fill_between(m['t'], m['baseline'], alpha = 0.2)\n",
    "plot = plt.fill_between(m['t'], m['scenario'], where=(np.array(m['scenario'])<0), alpha = 0.4)"
   ]
  },
  {
   "cell_type": "markdown",
   "id": "c8d0e8ec",
   "metadata": {},
   "source": [
    "Scenario = carbon stored outside of the atmosphere <br/>\n",
    "Baseline = atmospheric carbon at t=0 <br/>\n",
    "Benefit = (area under orange curve) <br/>\n",
    "Equivalence factor = (benefit) / (area under blue curve) <br/>"
   ]
  },
  {
   "cell_type": "markdown",
   "id": "737020dd",
   "metadata": {},
   "source": [
    "### IPCC method "
   ]
  },
  {
   "cell_type": "markdown",
   "id": "3494fae5",
   "metadata": {},
   "source": [
    "Benefit == difference between the two atmospheric curves w/in the time horizon / \"fraction of atmospheric perturbation remaining\"\n",
    "\n",
    "Method described IPCC Special report, 2000: https://archive.ipcc.ch/ipccreports/sres/land_use/index.php?idp=74"
   ]
  },
  {
   "cell_type": "code",
   "execution_count": 10,
   "id": "80837802",
   "metadata": {},
   "outputs": [],
   "source": [
    "def ipcc(time_horizon, baseline, delay, scale=1, discount_rate=0):\n",
    "    t = np.arange(time_horizon+1)\n",
    "    baseline_unscaled = baseline[0:time_horizon+1]\n",
    "    scenario = [0]*(delay+1) + baseline_unscaled[0:(time_horizon-(delay))]\n",
    "    baseline = [b*scale for b in baseline_unscaled]\n",
    "    scenario = [s*scale for s in scenario]\n",
    "    if time_horizon < delay:\n",
    "        scenario = scenario[:time_horizon+1]\n",
    "    benefit = np.trapz(baseline) - np.trapz(scenario[delay+1:])\n",
    "    baseline_atm_impact = np.trapz(baseline_unscaled) \n",
    "    equivalence_factor = benefit / baseline_atm_impact\n",
    "       \n",
    "    baseline_unscaled_discounted = discount(discount_rate, baseline_unscaled)\n",
    "    baseline_discounted = discount(discount_rate, baseline)\n",
    "    scenario_discounted = discount(discount_rate, scenario)\n",
    "    benefit_discounted = np.trapz(baseline_discounted) - np.trapz(scenario_discounted[delay+1:])\n",
    "    baseline_atm_impact_discounted = np.trapz(baseline_unscaled_discounted)\n",
    "    equivalence_factor_discounted = benefit_discounted / baseline_atm_impact_discounted\n",
    "    \n",
    "    return {'t': t,\n",
    "            'delay': delay,\n",
    "            'discount_rate': discount_rate,\n",
    "            'baseline': baseline,\n",
    "            'baseline_discounted': baseline_discounted,\n",
    "            'baseline_atm_impact': baseline_atm_impact, \n",
    "            'baseline_atm_impact_discounted': baseline_atm_impact_discounted,\n",
    "            'scenario': scenario, \n",
    "            'scenario_discounted': scenario_discounted,\n",
    "            'benefit': benefit, \n",
    "            'benefit_discounted': benefit_discounted, \n",
    "            'equivalence_factor': equivalence_factor,\n",
    "            'equivalence_factor_discounted': equivalence_factor_discounted\n",
    "           }"
   ]
  },
  {
   "cell_type": "code",
   "execution_count": 11,
   "id": "ed7f9dfb",
   "metadata": {},
   "outputs": [
    {
     "name": "stdout",
     "output_type": "stream",
     "text": [
      "\n",
      "Baseline atmospheric impact: 45.76 ton-years\n",
      "Benefit from delay: 17.04 ton-years\n",
      "Equivalence factor: 0.37\n",
      "\n"
     ]
    },
    {
     "data": {
      "image/png": "[encoded data removed]",
      "text/plain": [
       "<Figure size 432x288 with 1 Axes>"
      ]
     },
     "metadata": {
      "needs_background": "light"
     },
     "output_type": "display_data"
    }
   ],
   "source": [
    "time_horizon = 100\n",
    "delay = 46\n",
    "baseline = ipcc_2000\n",
    "scale = 1\n",
    "discount_rate = 0.0\n",
    "\n",
    "i = ipcc(time_horizon, baseline, delay, scale, discount_rate)\n",
    "print_benefit_report(i, plot=True)\n",
    "plot = plt.fill_between(i['t'], i['baseline'], alpha=0.2) \n",
    "plot = plt.fill_between(i['t'], i['scenario'], where=(i['t']>=delay+1), alpha=0.2) "
   ]
  },
  {
   "cell_type": "markdown",
   "id": "2029c190",
   "metadata": {},
   "source": [
    "Scenario = atmospheric carbon released with delay <br/>\n",
    "Baseline = atmospheric carbon released at t=0 <br/>\n",
    "Benefit = (area under blue curve) - (area under orange curve) <br/>\n",
    "Equivalence factor = (benefit) / (area under blue curve)<br/>\n",
    "If scale > 1, benefit is calculated w.r.t. a \"scaled\" baseline curve while equivalence factor is  calculated w.r.t. scale=1"
   ]
  },
  {
   "cell_type": "markdown",
   "id": "bbab94ed",
   "metadata": {},
   "source": [
    "### Lashof method"
   ]
  },
  {
   "cell_type": "markdown",
   "id": "3b1a0444",
   "metadata": {},
   "source": [
    "Method referenced IPCC Special report, 2000: https://archive.ipcc.ch/ipccreports/sres/land_use/index.php?idp=74\n",
    "\n",
    "And described in Fearnside, Lashof & Moura-Costa, 2000: https://link.springer.com/article/10.1023%2FA%3A1009625122628"
   ]
  },
  {
   "cell_type": "code",
   "execution_count": 12,
   "id": "8b2e38f7",
   "metadata": {},
   "outputs": [],
   "source": [
    "def lashof(time_horizon, baseline, delay, scale=1, discount_rate=0): \n",
    "    t = np.arange(time_horizon + delay + 1)\n",
    "    baseline = baseline[0:time_horizon+1] \n",
    "    scenario = [0]* delay + baseline\n",
    "    scenario = [s*scale for s in scenario]\n",
    "    benefit = np.trapz(scenario[time_horizon-1:])\n",
    "    baseline_atm_impact = np.trapz(baseline)\n",
    "    equivalence_factor = benefit / baseline_atm_impact\n",
    "\n",
    "    baseline_discounted = discount(discount_rate, baseline)\n",
    "    scenario_discounted = discount(discount_rate, scenario)\n",
    "    benefit_discounted = np.trapz(scenario_discounted[time_horizon-1:])\n",
    "    baseline_atm_impact_discounted = np.trapz(baseline_discounted)\n",
    "    equivalence_factor_discounted = benefit_discounted / baseline_atm_impact_discounted\n",
    "\n",
    "    return {'t': t,\n",
    "            'delay': delay,\n",
    "            'discount_rate': discount_rate,\n",
    "            'scenario': scenario, \n",
    "            'baseline': baseline, \n",
    "            'benefit': benefit, \n",
    "            'baseline_atm_impact': baseline_atm_impact, \n",
    "            'scenario_discounted': scenario_discounted,\n",
    "            'baseline_discounted': baseline_discounted,\n",
    "            'benefit_discounted': benefit_discounted, \n",
    "            'baseline_atm_impact_discounted': baseline_atm_impact_discounted,\n",
    "            'equivalence_factor': equivalence_factor,\n",
    "            'equivalence_factor_discounted': equivalence_factor_discounted}"
   ]
  },
  {
   "cell_type": "code",
   "execution_count": 13,
   "id": "1d695278",
   "metadata": {},
   "outputs": [
    {
     "name": "stdout",
     "output_type": "stream",
     "text": [
      "\n",
      "Baseline atmospheric impact: 45.76 ton-years\n",
      "Benefit from delay: 17.04 ton-years\n",
      "Equivalence factor: 0.37\n",
      "\n"
     ]
    },
    {
     "data": {
      "image/png": "[encoded data removed]",
      "text/plain": [
       "<Figure size 432x288 with 1 Axes>"
      ]
     },
     "metadata": {
      "needs_background": "light"
     },
     "output_type": "display_data"
    }
   ],
   "source": [
    "time_horizon = 100\n",
    "delay = 46\n",
    "baseline = ipcc_2000\n",
    "scale = 1\n",
    "discount_rate = 0.0\n",
    "\n",
    "l = lashof(time_horizon, baseline, delay, scale, discount_rate)\n",
    "print_benefit_report(l, plot=True)\n",
    "plot = plt.fill_between(l['t'][:len(l['baseline'])], l['baseline'], alpha = 0.2)\n",
    "plot = plt.fill_between(l['t'], l['scenario'], where=(l['t']>=time_horizon), alpha = 0.2)"
   ]
  },
  {
   "cell_type": "markdown",
   "id": "6ba9ef4c",
   "metadata": {},
   "source": [
    "Scenario = atmospheric carbon released with delay <br/>\n",
    "Baseline = atmospheric carbon released at t=0 <br/>\n",
    "Benefit = (area under orange curve hanging past the time horizon) <br/>\n",
    "Equivalence factor = (benefit) / (area under blue curve)<br/>"
   ]
  },
  {
   "cell_type": "markdown",
   "id": "b610f7a7",
   "metadata": {},
   "source": [
    "# Methods x Time Horizon"
   ]
  },
  {
   "cell_type": "code",
   "execution_count": 14,
   "id": "bbdf973f",
   "metadata": {
    "jupyter": {
     "source_hidden": true
    }
   },
   "outputs": [
    {
     "data": {
      "text/plain": [
       "<matplotlib.legend.Legend at 0x7f15780abf10>"
      ]
     },
     "execution_count": 14,
     "metadata": {},
     "output_type": "execute_result"
    },
    {
     "data": {
      "image/png": "[encoded data removed]",
      "text/plain": [
       "<Figure size 432x288 with 1 Axes>"
      ]
     },
     "metadata": {
      "needs_background": "light"
     },
     "output_type": "display_data"
    }
   ],
   "source": [
    "#time_horizon = 100\n",
    "delay = 1\n",
    "baseline = ipcc_2000\n",
    "scale = 1\n",
    "discount_rate = 0\n",
    "\n",
    "t = np.arange(100,1000)\n",
    "equivalence_m = []\n",
    "equivalence_i = []\n",
    "equivalence_l = []\n",
    "for time_horizon in t:\n",
    "    m = moura_costa(time_horizon, baseline, delay, scale, discount_rate)\n",
    "    i = ipcc(time_horizon, baseline, delay, scale, discount_rate)\n",
    "    l = lashof(time_horizon, baseline, delay, scale, discount_rate)\n",
    "    equivalence_m.append(m['equivalence_factor'])  \n",
    "    equivalence_i.append(i['equivalence_factor']) \n",
    "    equivalence_l.append(l['equivalence_factor'])\n",
    "    \n",
    "plt.plot(t, equivalence_m, label=\"moura-costa\")\n",
    "plt.plot(t, equivalence_i, label=\"ipcc\")\n",
    "plt.plot(t, equivalence_l, label=\"lashof\")\n",
    "plt.xlabel('time horizon')\n",
    "plt.ylabel('equivalence factor')\n",
    "plt.legend()"
   ]
  },
  {
   "cell_type": "markdown",
   "id": "bc97f312",
   "metadata": {},
   "source": [
    "# Methods x Discounting"
   ]
  },
  {
   "cell_type": "code",
   "execution_count": 15,
   "id": "30da0eb2",
   "metadata": {
    "jupyter": {
     "source_hidden": true
    }
   },
   "outputs": [
    {
     "data": {
      "text/plain": [
       "<matplotlib.legend.Legend at 0x7f156bf426a0>"
      ]
     },
     "execution_count": 15,
     "metadata": {},
     "output_type": "execute_result"
    },
    {
     "data": {
      "image/png": "[encoded data removed]",
      "text/plain": [
       "<Figure size 432x288 with 1 Axes>"
      ]
     },
     "metadata": {
      "needs_background": "light"
     },
     "output_type": "display_data"
    }
   ],
   "source": [
    "time_horizon = 100\n",
    "delay = 1\n",
    "baseline = ipcc_2000\n",
    "scale = 1\n",
    "#discount_rate = 0\n",
    "\n",
    "d = np.linspace(0, 0.1, 30)\n",
    "equivalence_m = []\n",
    "equivalence_i = []\n",
    "equivalence_l = []\n",
    "\n",
    "for discount_rate in d:\n",
    "    m = moura_costa(time_horizon, baseline, delay, scale, discount_rate)\n",
    "    i = ipcc(time_horizon, baseline, delay, scale, discount_rate)\n",
    "    l = lashof(time_horizon, baseline, delay, scale, discount_rate)\n",
    "    equivalence_m.append(m['equivalence_factor_discounted'])  \n",
    "    equivalence_i.append(i['equivalence_factor_discounted']) \n",
    "    equivalence_l.append(l['equivalence_factor_discounted'])\n",
    "    \n",
    "plt.plot(d, equivalence_m, label=\"moura-costa\")\n",
    "plt.plot(d, equivalence_i, label=\"ipcc\")\n",
    "plt.plot(d, equivalence_l, label=\"lashof\")\n",
    "plt.xlabel('discount rate')\n",
    "plt.ylabel('equivalence factor')\n",
    "plt.legend()"
   ]
  },
  {
   "cell_type": "markdown",
   "id": "953c842f",
   "metadata": {},
   "source": [
    "# Methods x Delay"
   ]
  },
  {
   "cell_type": "code",
   "execution_count": 16,
   "id": "777e992e",
   "metadata": {
    "jupyter": {
     "source_hidden": true
    }
   },
   "outputs": [
    {
     "data": {
      "text/plain": [
       "<matplotlib.legend.Legend at 0x7f156bf70d90>"
      ]
     },
     "execution_count": 16,
     "metadata": {},
     "output_type": "execute_result"
    },
    {
     "data": {
      "image/png": "[encoded data removed]",
      "text/plain": [
       "<Figure size 432x288 with 1 Axes>"
      ]
     },
     "metadata": {
      "needs_background": "light"
     },
     "output_type": "display_data"
    }
   ],
   "source": [
    "time_horizon = 100\n",
    "#delay = 1\n",
    "baseline = ipcc_2000\n",
    "scale = 1\n",
    "discount_rate = 0\n",
    "\n",
    "d = np.arange(100)\n",
    "equivalence_m = []\n",
    "equivalence_i = []\n",
    "equivalence_l = []\n",
    "for delay in d:\n",
    "    m = moura_costa(time_horizon, baseline, delay, scale, discount_rate)\n",
    "    i = ipcc(time_horizon, baseline, delay, scale, discount_rate)\n",
    "    l = lashof(time_horizon, baseline, delay, scale, discount_rate)\n",
    "    equivalence_m.append(m['equivalence_factor'])  \n",
    "    equivalence_i.append(i['equivalence_factor']) \n",
    "    equivalence_l.append(l['equivalence_factor'])\n",
    "    \n",
    "plt.plot(d, equivalence_m, label=\"moura-costa\")\n",
    "plt.plot(d, equivalence_i, label=\"ipcc\")\n",
    "plt.plot(d, equivalence_l, label=\"lashof\")\n",
    "plt.xlabel('delay')\n",
    "plt.ylabel('equivalence factor')\n",
    "plt.legend()"
   ]
  },
  {
   "cell_type": "markdown",
   "id": "9df3c3a5",
   "metadata": {},
   "source": [
    "# Methods x (Scale / Delay)"
   ]
  },
  {
   "cell_type": "markdown",
   "id": "2e5962ad",
   "metadata": {},
   "source": [
    "Is keeping 1 ton out of the atmosphere for 46 years the same thing as keeping 46 tons out of the atmosphere for 1 year according to all methods?"
   ]
  },
  {
   "cell_type": "code",
   "execution_count": 17,
   "id": "1ab2df23",
   "metadata": {
    "jupyter": {
     "source_hidden": true
    }
   },
   "outputs": [
    {
     "data": {
      "text/plain": [
       "<matplotlib.legend.Legend at 0x7f156bee85b0>"
      ]
     },
     "execution_count": 17,
     "metadata": {},
     "output_type": "execute_result"
    },
    {
     "data": {
      "image/png": "[encoded data removed]",
      "text/plain": [
       "<Figure size 432x288 with 1 Axes>"
      ]
     },
     "metadata": {
      "needs_background": "light"
     },
     "output_type": "display_data"
    }
   ],
   "source": [
    "time_horizon = 100\n",
    "#delay = 46\n",
    "baseline = ipcc_2000\n",
    "#scale = 1\n",
    "discount_rate = 0\n",
    "\n",
    "d = [1, 2, 23, 46]\n",
    "s = [46, 23, 2, 1]\n",
    "equivalence_m = []\n",
    "equivalence_i = []\n",
    "equivalence_l = []\n",
    "for i, delay in enumerate(d):\n",
    "    scale = s[i]\n",
    "    m = moura_costa(time_horizon, baseline, delay, scale, discount_rate)\n",
    "    i = ipcc(time_horizon, baseline, delay, scale, discount_rate)\n",
    "    l = lashof(time_horizon, baseline, delay, scale, discount_rate)\n",
    "    equivalence_m.append(m['equivalence_factor'])  \n",
    "    equivalence_i.append(i['equivalence_factor']) \n",
    "    equivalence_l.append(l['equivalence_factor'])\n",
    "    \n",
    "plt.plot(d, equivalence_m, label=\"moura-costa\")\n",
    "plt.plot(d, equivalence_i, label=\"ipcc\")\n",
    "plt.plot(d, equivalence_l, label=\"lashof\")\n",
    "plt.xlabel('delay (w/ scale changing inversely)')\n",
    "plt.ylabel('equivalence factor')\n",
    "plt.legend()"
   ]
  },
  {
   "cell_type": "markdown",
   "id": "7ea5618e",
   "metadata": {},
   "source": [
    "# Case Study: NCX "
   ]
  },
  {
   "cell_type": "markdown",
   "id": "f1ab330e",
   "metadata": {},
   "source": [
    "Moura-costa method? \n",
    "\n",
    "- Time horizon: 100 years\n",
    "- 1 tCO2e equivalency: 48 ton-years, citing IPCC 2007\n",
    "- Discount rate: 3.3% → 17 ton-years today = 48 ton-years over 100 year\n",
    "\n",
    "See \"Forest and Carbon: A Guide for Buyers and Policymakers\", p.21-24 for a description of the NCX ton-year accounting method: https://ncx.com/wp-content/uploads/2021/06/Forests-and-Carbon_A-Guide-for-Buyers-and-Policymakers_SilviaTerra2020_v0.4-2-1.pdf "
   ]
  },
  {
   "cell_type": "code",
   "execution_count": 23,
   "id": "2e78df9f",
   "metadata": {},
   "outputs": [
    {
     "name": "stdout",
     "output_type": "stream",
     "text": [
      "\n",
      "Baseline atmospheric impact: 17.18 ton-years\n",
      "Benefit from delay: 16.73 ton-years\n",
      "Equivalence factor: 0.97\n",
      "\n"
     ]
    }
   ],
   "source": [
    "time_horizon = 100\n",
    "baseline = ipcc_2007\n",
    "delay = 1\n",
    "scale = 17\n",
    "discount_rate = 0.033\n",
    "\n",
    "ncx = moura_costa(time_horizon, baseline, delay, scale, discount_rate)\n",
    "print_benefit_report(ncx, plot=False)"
   ]
  },
  {
   "cell_type": "markdown",
   "id": "254a60e2",
   "metadata": {},
   "source": [
    "### Cost sensitivity"
   ]
  },
  {
   "cell_type": "markdown",
   "id": "7ec21a24",
   "metadata": {},
   "source": [
    "Imagine the cost carbon credit is $10/permanent ton, where a 'permanent ton' is a handful of ton-years packaged up according to the NCX methodology modeled above. Since a 'permanent ton' = 17 ton-years, we can say that each ton-year costs 59 cents. "
   ]
  },
  {
   "cell_type": "code",
   "execution_count": 24,
   "id": "20a44166",
   "metadata": {},
   "outputs": [
    {
     "data": {
      "text/plain": [
       "0.59"
      ]
     },
     "execution_count": 24,
     "metadata": {},
     "output_type": "execute_result"
    }
   ],
   "source": [
    "ton_year_cost = 10/17\n",
    "round(ton_year_cost,2)"
   ]
  },
  {
   "cell_type": "markdown",
   "id": "a76e5021",
   "metadata": {},
   "source": [
    "\n",
    "If the cost of a ton-year reflects a true cost of taking an action today, we can then ask how the cost of a buying a 'permanent ton' via ton-years today changes as we change the method (from moura costa to lashof) or the parameters (discount rate, time horizon). "
   ]
  },
  {
   "cell_type": "markdown",
   "id": "a1946e42",
   "metadata": {},
   "source": [
    "Using the same method and parameters but changing the discount rate from 0% to 5% results in a **3.5x price swing**:"
   ]
  },
  {
   "cell_type": "code",
   "execution_count": 29,
   "id": "66ef7836",
   "metadata": {},
   "outputs": [
    {
     "name": "stdout",
     "output_type": "stream",
     "text": [
      "Discount rate: 0\n",
      "Ton-years needed today: 48\n",
      "Cost of permanent ton: $28\n",
      "\n",
      "Discount rate: 0.02\n",
      "Ton-years needed today: 24\n",
      "Cost of permanent ton: $14\n",
      "\n",
      "Discount rate: 0.033\n",
      "Ton-years needed today: 17\n",
      "Cost of permanent ton: $10\n",
      "\n",
      "Discount rate: 0.05\n",
      "Ton-years needed today: 13\n",
      "Cost of permanent ton: $8\n",
      "\n"
     ]
    }
   ],
   "source": [
    "time_horizon = 100\n",
    "delay = 1\n",
    "scale = 1\n",
    "#discount_rate = 0.033\n",
    "baseline = ipcc_2007\n",
    "\n",
    "for discount_rate in [0, 0.02, 0.033, 0.05]:\n",
    "    ncx = moura_costa(time_horizon, baseline, delay, scale, discount_rate)\n",
    "    equivalence = ncx['equivalence_factor_discounted']\n",
    "    print('Discount rate: ' + str(discount_rate))\n",
    "    print('Ton-years needed today: '+ str(round(ncx['baseline_atm_impact_discounted'])))\n",
    "    print('Cost of permanent ton: $' + str(round(ton_year_cost * (1/equivalence))))\n",
    "    print()"
   ]
  },
  {
   "cell_type": "markdown",
   "id": "3278d4e6",
   "metadata": {},
   "source": [
    "If the discount rate were zero, varying the time horizon (100-1000 years) results in **5x price swing**. \n",
    "If instead the discount rate is 3.3, as in the NCX methodology, varying the time horizon (100-1000 years) results in **0.1x price swing**. "
   ]
  },
  {
   "cell_type": "code",
   "execution_count": 32,
   "id": "46e43559",
   "metadata": {},
   "outputs": [
    {
     "name": "stdout",
     "output_type": "stream",
     "text": [
      "Time horizon: 100\n",
      "Ton-years needed today: 17\n",
      "Cost of permanent ton: $10\n",
      "\n",
      "Time horizon: 1000\n",
      "Ton-years needed today: 18\n",
      "Cost of permanent ton: $11\n",
      "\n"
     ]
    }
   ],
   "source": [
    "#time_horizon = 100\n",
    "delay = 1\n",
    "scale = 1\n",
    "discount_rate = 0.033\n",
    "baseline = ipcc_2007\n",
    "\n",
    "for time_horizon in [100, 1000]:\n",
    "    ncx = moura_costa(time_horizon, baseline, delay, scale, discount_rate)\n",
    "    equivalence = ncx['equivalence_factor_discounted']\n",
    "    print('Time horizon: ' + str(time_horizon))\n",
    "    print('Ton-years needed today: '+ str(round(ncx['baseline_atm_impact_discounted'])))\n",
    "    print('Cost of permanent ton: $' + str(round(ton_year_cost * (1/equivalence))))\n",
    "    print()"
   ]
  },
  {
   "cell_type": "markdown",
   "id": "2ca5c55c",
   "metadata": {},
   "source": [
    "Using the same parameters but varying the method results in a **35x price swing**.\n",
    "\n",
    "(Note the disparate impact discount rates on the different methods - see above!):"
   ]
  },
  {
   "cell_type": "code",
   "execution_count": 31,
   "id": "95711b33",
   "metadata": {},
   "outputs": [
    {
     "name": "stdout",
     "output_type": "stream",
     "text": [
      "MOURA_COSTA\n",
      "Ton-years needed today: 48\n",
      "Cost of permanent ton: $28\n",
      "\n",
      "IPCC\n",
      "Ton-years needed today: 48\n",
      "Cost of permanent ton: $39\n",
      "\n",
      "LASHOF\n",
      "Ton-years needed today: 48\n",
      "Cost of permanent ton: $39\n",
      "\n"
     ]
    }
   ],
   "source": [
    "time_horizon = 100\n",
    "delay = 1\n",
    "scale = 1\n",
    "discount_rate = 0.0\n",
    "baseline = ipcc_2007\n",
    "\n",
    "ncx_m = moura_costa(time_horizon, baseline, delay, scale, discount_rate)\n",
    "ncx_i = ipcc(time_horizon, baseline, delay, scale, discount_rate)\n",
    "ncx_l = lashof(time_horizon, baseline, delay, scale, discount_rate)\n",
    "\n",
    "for i,ncx in enumerate([ncx_m, ncx_i, ncx_l]):\n",
    "    print(['MOURA_COSTA','IPCC', 'LASHOF'][i])\n",
    "    equivalence = ncx['equivalence_factor_discounted']\n",
    "    print('Ton-years needed today: '+ str(round(ncx['baseline_atm_impact_discounted'])))\n",
    "    print('Cost of permanent ton: $' + str(round(ton_year_cost * (1/equivalence))))\n",
    "    print()"
   ]
  }
 ],
 "metadata": {
  "kernelspec": {
   "display_name": "Python [conda env:notebook] *",
   "language": "python",
   "name": "conda-env-notebook-py"
  },
  "language_info": {
   "codemirror_mode": {
    "name": "ipython",
    "version": 3
   },
   "file_extension": ".py",
   "mimetype": "text/x-python",
   "name": "python",
   "nbconvert_exporter": "python",
   "pygments_lexer": "ipython3",
   "version": "3.8.10"
  }
 },
 "nbformat": 4,
 "nbformat_minor": 5
}
