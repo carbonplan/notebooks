{
 "cells": [
  {
   "cell_type": "code",
   "execution_count": 1,
   "id": "17260bfb",
   "metadata": {},
   "outputs": [],
   "source": [
    "%matplotlib inline\n",
    "\n",
    "import logging\n",
    "import matplotlib.pyplot as plt\n",
    "import numpy as np\n",
    "import pandas as pd\n",
    "import math"
   ]
  },
  {
   "cell_type": "markdown",
   "id": "1418c8c4",
   "metadata": {},
   "source": [
    "# Carbon Impulse Response Function (i.e. the baseline curve)"
   ]
  },
  {
   "cell_type": "markdown",
   "id": "db4504f9",
   "metadata": {},
   "source": [
    "This section models two Impulse Reponse Functions (IRFs). An IRF represents the time-dependent fraction of an  emission pulse remaining in the atmosphere at time t. It is convenient to describe the IRF for a particular gas X by exponential functions:\n",
    "\n",
    "$ IRF_x(t) = a_{x,0} + \\sum_{i=1}^{3} a_{x,i} * e^{-t / tau_i} $\n",
    "\n",
    "The $a$ and $tau$ parameters for CO2 can be taken from literature: \n",
    "\n",
    "- Joos, F., Roth, R., Fuglestvedt, J. S., Peters, G. P., Enting, I. G., von Bloh, W., Brovkin, V., Burke, E. J., Eby, M., Edwards, N. R., Friedrich, T., Frölicher, T. L., Halloran, P. R., Holden, P. B., Jones, C., Kleinen, T., Mackenzie, F. T., Matsumoto, K., Meinshausen, M., Plattner, G.-K., Reisinger, A., Segschneider, J., Shaffer, G., Steinacher, M., Strassmann, K., Tanaka, K., Timmermann, A., and Weaver, A. J.: Carbon dioxide and climate impulse response functions for the computation of greenhouse gas metrics: a multi-model analysis, Atmos. Chem. Phys., 13, 2793–2825, https://doi.org/10.5194/acp-13-2793-2013, 2013.\n",
    "\n",
    "- Forster, P., V. Ramaswamy, P. Artaxo, T. Berntsen, R. Betts, D.W. Fahey, J. Haywood, J. Lean, D.C. Lowe, G. Myhre, J. Nganga, R. Prinn, G. Raga, M. Schulz and R. Van Dorland, 2007: Changes in Atmospheric Constituents and in Radiative Forcing. In: Climate Change 2007: The Physical Science Basis. Contribution of Working Group I to the Fourth Assessment Report of the Intergovernmental Panel on Climate Change [Solomon, S., D. Qin, M. Manning, Z. Chen, M. Marquis, K.B. Averyt, M.Tignor and H.L. Miller (eds.)]: https://www.ipcc.ch/site/assets/uploads/2018/02/ar4-wg1-chapter2-1.pdf (pg. 213)\n",
    "\n",
    "- IPCC: Special Report on Land Use, Land‐Use Change, and Forestry, Section 2.3.6.3, 2000, https://archive.ipcc.ch/ipccreports/sres/land_use/index.php?idp=74 and footnote https://archive.ipcc.ch/ipccreports/sres/land_use/fn3.htm#4\n"
   ]
  },
  {
   "cell_type": "code",
   "execution_count": 2,
   "id": "5be7bd53",
   "metadata": {},
   "outputs": [],
   "source": [
    "def IRF(t_horizon, curve):\n",
    "    \n",
    "    if curve == 'joos_2013':\n",
    "        # parameters from Joos et al, 2013 (Table 5)\n",
    "        a = [0.2173, 0.2240, 0.2824, 0.2763]\n",
    "        tau = [0, 394.4, 36.54, 4.304]\n",
    "    elif curve == 'ipcc_2007':\n",
    "        # parameters from IPCC 2007 (page 213)\n",
    "        a = [0.217, 0.259, 0.338, 0.186]\n",
    "        tau = [0, 172.9, 18.51, 1.186]\n",
    "    elif curve == 'ipcc_2000':\n",
    "        # parameters from IPCC Special Report 2000, Ch2, Footnote 4\n",
    "        a = [0.175602, 0.137467, 0.18576, 0.242302, 0.258868]\n",
    "        tau = [0, 421.093, 70.5965, 21.42165, 3.41537]\n",
    "\n",
    "    IRF = [a[0]] * len(t_horizon)\n",
    "    for t in t_horizon:\n",
    "        for i in np.arange(1,len(a)):\n",
    "            IRF[t] =  IRF[t] + (a[i] * np.exp(-t/tau[i]))\n",
    "    \n",
    "    return IRF"
   ]
  },
  {
   "cell_type": "code",
   "execution_count": 3,
   "id": "d451bc10",
   "metadata": {},
   "outputs": [
    {
     "data": {
      "text/plain": [
       "<matplotlib.legend.Legend at 0x7f2eeb9282b0>"
      ]
     },
     "execution_count": 3,
     "metadata": {},
     "output_type": "execute_result"
    },
    {
     "data": {
      "image/png": "[encoded data removed]",
      "text/plain": [
       "<Figure size 432x288 with 1 Axes>"
      ]
     },
     "metadata": {
      "needs_background": "light"
     },
     "output_type": "display_data"
    }
   ],
   "source": [
    "t_horizon = np.arange(1001)\n",
    "ipcc_2000 = IRF(t_horizon, 'ipcc_2000')\n",
    "ipcc_2007 = IRF(t_horizon, 'ipcc_2007')\n",
    "joos_2013 = IRF(t_horizon, 'joos_2013')\n",
    "plt.plot(t_horizon, ipcc_2000, label='ipcc_2000')\n",
    "plt.plot(t_horizon, ipcc_2007, label='ipcc_2007')\n",
    "plt.plot(t_horizon, joos_2013, label='joos_2013')\n",
    "plt.legend()"
   ]
  },
  {
   "cell_type": "markdown",
   "id": "0f1d0fd4",
   "metadata": {},
   "source": [
    "Joos et al. (2013) report the following time-dependent fractions of an original pulse of CO2 remaining in the atmosphere in their results, section 4.1: \n",
    "- 0.6 +- 0.14 at year 20\n",
    "- 0.4 +- 0.13 at year 100\n",
    "- 0.25 +- 0.09 at year 1000\n",
    "\n",
    "We can compare that to the joos_2013 curve we generated above: "
   ]
  },
  {
   "cell_type": "code",
   "execution_count": 4,
   "id": "93657235",
   "metadata": {},
   "outputs": [
    {
     "name": "stdout",
     "output_type": "stream",
     "text": [
      "At t=20:   0.596\n",
      "At t=100:  0.409\n",
      "At t=1000: 0.235\n",
      "\n"
     ]
    }
   ],
   "source": [
    "for curve in [joos_2013]:\n",
    "    print('At t=20:   '+ str(round(curve[20],3)))\n",
    "    print('At t=100:  '+ str(round(curve[100],3)))\n",
    "    print('At t=1000: '+ str(round(curve[-1],3)))\n",
    "    print()"
   ]
  },
  {
   "cell_type": "markdown",
   "id": "c353c851",
   "metadata": {},
   "source": [
    "--> **Flag: what's going on at t=1000?** <--"
   ]
  },
  {
   "cell_type": "markdown",
   "id": "689a69cb",
   "metadata": {},
   "source": [
    "# Ton-year accounting methods"
   ]
  },
  {
   "cell_type": "markdown",
   "id": "7aecaaf2",
   "metadata": {},
   "source": [
    "Some terms for interpreting the three ton-year accounting methods implemented below\n",
    "\n",
    "- *Baseline:* the curve atmospheric state-of affairs that is assumed to be the counterfaction to a project scenario\n",
    "- *Baseline atmospheric impact:* the integral of the baseline curve\n",
    "- *Scenario:* the curve representing what happens because of an intervention (could be representing carbon in a stock or carbon in the atmosphere depending on the method)\n",
    "- *Benefit:* the reduction in atmospheric impact as a result of the scenario intervention \n",
    "- *Equivalence factor:* the ratio between the benefit and the atmospheric impact of a single tCO2 released at t=0 under shared assumptions\n"
   ]
  },
  {
   "cell_type": "markdown",
   "id": "0b5b21e0",
   "metadata": {},
   "source": [
    "Some helper functions:"
   ]
  },
  {
   "cell_type": "code",
   "execution_count": 5,
   "id": "f4ec0417",
   "metadata": {},
   "outputs": [],
   "source": [
    "def discount(discount_rate, curve): \n",
    "    return [x/math.pow(1+discount_rate, i) for i,x in enumerate(curve)]"
   ]
  },
  {
   "cell_type": "code",
   "execution_count": 259,
   "id": "e31229a9",
   "metadata": {},
   "outputs": [],
   "source": [
    "def print_benefit_report(method_output, plot):\n",
    "    print()\n",
    "    print('Discount rate: ' + str(round(method_output['discount_rate']*100,1)) + '%')\n",
    "    print('Delay: ' + str(method_output['delay']) + ' year(s)')\n",
    "    print('Baseline atmospheric cost: ' + str(round(method_output['baseline_atm_impact'],2)) + ' ton-years')\n",
    "    print('Benefit from 1tCO2 with delay: ' + str(round(method_output['benefit'],2)) + ' ton-years')\n",
    "    print('Number needed: ' + str(round(method_output['num_needed'],1)))\n",
    "    print()\n",
    "    if plot: \n",
    "        plot = plt.plot(method_output['baseline'], label=\"baseline\")\n",
    "        plot = plt.plot(method_output['scenario'], label=\"scenario\")\n",
    "        plot = plt.legend()"
   ]
  },
  {
   "cell_type": "markdown",
   "id": "da9fe4ca",
   "metadata": {},
   "source": [
    "And a function implementing the three ton-year accounting set-ups:"
   ]
  },
  {
   "cell_type": "code",
   "execution_count": 141,
   "id": "b2dbb665",
   "metadata": {},
   "outputs": [],
   "source": [
    "def get_tonyear_setup(method, time_horizon, baseline, delay, discount_rate):\n",
    "    baseline = baseline[0:time_horizon+1]\n",
    "    baseline_discounted = discount(discount_rate, baseline)\n",
    "    baseline_atm_impact = np.trapz(baseline_discounted)\n",
    "    \n",
    "    if method == 'mc':\n",
    "        t = np.arange(time_horizon+1)\n",
    "        scenario = [-1]*(delay+1) + [0]*(time_horizon-delay)   \n",
    "        scenario = discount(discount_rate, scenario)\n",
    "        benefit = -np.trapz(scenario[:delay+1])\n",
    "    elif method == 'ipcc':\n",
    "        t = np.arange(time_horizon+1)\n",
    "        scenario = [0]*delay + baseline\n",
    "        scenario = scenario[0:time_horizon+1]\n",
    "        if time_horizon < delay:\n",
    "            scenario = scenario[:time_horizon+1]\n",
    "        scenario = discount(discount_rate, scenario)\n",
    "        benefit = baseline_atm_impact - np.trapz(scenario[delay:])\n",
    "    elif method == 'lashof':\n",
    "        t = np.arange(time_horizon + delay + 1)\n",
    "        scenario = [0]* delay + baseline\n",
    "        scenario = discount(discount_rate, scenario)\n",
    "        benefit = np.trapz(scenario[time_horizon:])\n",
    "    else: \n",
    "        print('No method by that name.')\n",
    "        return None\n",
    "        \n",
    "    return {'method': method,\n",
    "            't': t,\n",
    "            'delay': delay,\n",
    "            'discount_rate': discount_rate,\n",
    "            'scenario': scenario,\n",
    "            'baseline': baseline_discounted,\n",
    "            'baseline_atm_impact': baseline_atm_impact,\n",
    "            'benefit': benefit,\n",
    "            'num_needed': baseline_atm_impact/benefit}"
   ]
  },
  {
   "cell_type": "markdown",
   "id": "4aa7ea37",
   "metadata": {},
   "source": [
    "### Moura-Costa method"
   ]
  },
  {
   "cell_type": "markdown",
   "id": "274448b3",
   "metadata": {},
   "source": [
    "Method referenced IPCC Special report (2000) with outputs to check against: https://archive.ipcc.ch/ipccreports/sres/land_use/index.php?idp=74\n",
    "\n",
    "Method also described in Moura Costa and Wilson, 2000: https://oxfordclimatepolicy.org/sites/default/files/10.1023%252FA_1009697625521.pdf"
   ]
  },
  {
   "cell_type": "code",
   "execution_count": 260,
   "id": "5bda897d",
   "metadata": {},
   "outputs": [
    {
     "name": "stdout",
     "output_type": "stream",
     "text": [
      "\n",
      "Discount rate: 0.0%\n",
      "Delay: 46 year(s)\n",
      "Baseline atmospheric cost: 45.76 ton-years\n",
      "Benefit from 1tCO2 with delay: 46.0 ton-years\n",
      "Number needed: 1.0\n",
      "\n"
     ]
    },
    {
     "data": {
      "image/png": "[encoded data removed]",
      "text/plain": [
       "<Figure size 432x288 with 1 Axes>"
      ]
     },
     "metadata": {
      "needs_background": "light"
     },
     "output_type": "display_data"
    }
   ],
   "source": [
    "time_horizon = 100\n",
    "delay = 46\n",
    "baseline = ipcc_2000\n",
    "discount_rate = 0.0\n",
    "\n",
    "m = get_tonyear_setup('mc', time_horizon, baseline, delay, discount_rate)\n",
    "print_benefit_report(m, plot=True)\n",
    "plot = plt.fill_between(m['t'], m['baseline'], alpha = 0.2)\n",
    "plot = plt.fill_between(m['t'], m['scenario'], where=(np.array(m['scenario'])<0), alpha = 0.4)"
   ]
  },
  {
   "cell_type": "markdown",
   "id": "0e280752",
   "metadata": {},
   "source": [
    "Baseline = 1 tCO2 atmospheric carbon released at t=0 <br/>\n",
    "Scenario = 1 tCO2 stored outside of the atmosphere for delay<br/>\n",
    "Baseline atmospheric cost = (blue area) <br/>\n",
    "Benefit = (orange area) <br/>\n",
    "Number needed = how many orange areas are equivalent to the blue area? <br/>\n",
    "** Assumes 0% re-emission ** <br/>\n",
    "** Additionality double-bind **"
   ]
  },
  {
   "cell_type": "markdown",
   "id": "d23dbf71",
   "metadata": {},
   "source": [
    "### IPCC method "
   ]
  },
  {
   "cell_type": "markdown",
   "id": "48ba3abd",
   "metadata": {},
   "source": [
    "Method described IPCC Special report, 2000: https://archive.ipcc.ch/ipccreports/sres/land_use/index.php?idp=74\n",
    "\n",
    "Conceptually distinct but numerically identical to Lashof method when discount_rate = 0"
   ]
  },
  {
   "cell_type": "code",
   "execution_count": 229,
   "id": "ecdcd5ec",
   "metadata": {},
   "outputs": [
    {
     "name": "stdout",
     "output_type": "stream",
     "text": [
      "\n",
      "Discount rate: 0.0%\n",
      "Delay: 46 year(s)\n",
      "Baseline atmospheric cost: 45.76 ton-years\n",
      "Benefit from 1tCO2 with delay: 16.64 ton-years\n",
      "Number tCO2 with delay needed: 2.8\n",
      "\n"
     ]
    },
    {
     "data": {
      "image/png": "[encoded data removed]",
      "text/plain": [
       "<Figure size 432x288 with 1 Axes>"
      ]
     },
     "metadata": {
      "needs_background": "light"
     },
     "output_type": "display_data"
    }
   ],
   "source": [
    "time_horizon = 100\n",
    "delay = 46\n",
    "baseline = ipcc_2000\n",
    "discount_rate = 0.0\n",
    "\n",
    "i = get_tonyear_setup('ipcc', time_horizon, baseline, delay, discount_rate)\n",
    "print_benefit_report(i, plot=True)\n",
    "plot = plt.fill_between(i['t'], i['baseline'], alpha=0.2) \n",
    "plot = plt.fill_between(i['t'], i['scenario'], where=(i['t']>=i['delay']), alpha=0.2) "
   ]
  },
  {
   "cell_type": "markdown",
   "id": "84db2da3",
   "metadata": {},
   "source": [
    "Baseline = 1 tCO2 released into atmospheric at t=0 <br/>\n",
    "Scenario = 1 tCO2 released into atomosphere with delay <br/>\n",
    "Baseline atmospheric cost = (blue area) <br/>\n",
    "Benefit = (blue area) - (orange area) <br/>\n",
    "Number needed = how would you need to scale the \"benefit\" to equal to the blue area? <br/>\n",
    "** Assumes 100% re-emission **"
   ]
  },
  {
   "cell_type": "markdown",
   "id": "221dc748",
   "metadata": {},
   "source": [
    "### Lashof method"
   ]
  },
  {
   "cell_type": "markdown",
   "id": "f1c325d4",
   "metadata": {},
   "source": [
    "Method referenced IPCC Special report, 2000: https://archive.ipcc.ch/ipccreports/sres/land_use/index.php?idp=74\n",
    "\n",
    "And described in Fearnside, Lashof & Moura-Costa, 2000: https://link.springer.com/article/10.1023%2FA%3A1009625122628\n",
    "\n",
    "Conceptually distinct but numerically identical to IPCC method when discount_rate = 0"
   ]
  },
  {
   "cell_type": "code",
   "execution_count": 167,
   "id": "80c36adf",
   "metadata": {},
   "outputs": [
    {
     "name": "stdout",
     "output_type": "stream",
     "text": [
      "\n",
      "Discount rate: 0.0%\n",
      "Delay: 46 year(s)\n",
      "Baseline atmospheric cost: 45.76 ton-years\n",
      "Benefit from 1tCO2 with delay: 16.64 ton-years\n",
      "Number tCO2 with delay needed: 2.8\n",
      "\n"
     ]
    },
    {
     "data": {
      "image/png": "[encoded data removed]",
      "text/plain": [
       "<Figure size 432x288 with 1 Axes>"
      ]
     },
     "metadata": {
      "needs_background": "light"
     },
     "output_type": "display_data"
    }
   ],
   "source": [
    "time_horizon = 100\n",
    "delay = 46\n",
    "baseline = ipcc_2000\n",
    "discount_rate = 0.0\n",
    "\n",
    "l = get_tonyear_setup('lashof', time_horizon, baseline, delay, discount_rate)\n",
    "print_benefit_report(l, plot=True)\n",
    "plot = plt.fill_between(l['t'][:len(l['baseline'])], l['baseline'], alpha = 0.2)\n",
    "plot = plt.fill_between(l['t'], l['scenario'], where=(l['t']>=time_horizon), alpha = 0.2)"
   ]
  },
  {
   "cell_type": "markdown",
   "id": "6d5f67ce",
   "metadata": {},
   "source": [
    "Baseline = 1 tCO2 released into atmospheric at t=0 <br/>\n",
    "Scenario = 1 tCO2 released into atomosphere with delay <br/>\n",
    "Baseline atmospheric cost = (blue area)\n",
    "Benefit = (orange area) = atmospheric cost no longer occuring w/in the time horizon <br/>\n",
    "Number needed = how many orange areas would you need to equal the blue area?<br/>\n",
    "** Assumes 100% re-emission **"
   ]
  },
  {
   "cell_type": "markdown",
   "id": "20f8ec98",
   "metadata": {},
   "source": [
    "# Methods x Delay"
   ]
  },
  {
   "cell_type": "code",
   "execution_count": 254,
   "id": "c82f59e0",
   "metadata": {},
   "outputs": [
    {
     "data": {
      "text/plain": [
       "<matplotlib.legend.Legend at 0x7f2ed96d9b20>"
      ]
     },
     "execution_count": 254,
     "metadata": {},
     "output_type": "execute_result"
    },
    {
     "data": {
      "image/png": "[encoded data removed]",
      "text/plain": [
       "<Figure size 432x288 with 1 Axes>"
      ]
     },
     "metadata": {
      "needs_background": "light"
     },
     "output_type": "display_data"
    }
   ],
   "source": [
    "time_horizon = 100\n",
    "baseline = ipcc_2000\n",
    "#delay = 1\n",
    "discount_rate = 0.0\n",
    "\n",
    "for method in ['mc', 'ipcc']:\n",
    "    num_needed = []\n",
    "    for delay in np.arange(1,100):\n",
    "        num_needed.append(1/get_tonyear_setup(method,time_horizon, baseline, delay, discount_rate)['num_needed'])\n",
    "    plt.plot(num_needed, label=method)\n",
    "\n",
    "plt.xlabel('delay')\n",
    "plt.ylabel('1 / num_needed')\n",
    "plt.legend()"
   ]
  },
  {
   "cell_type": "markdown",
   "id": "e2d613bb",
   "metadata": {},
   "source": [
    "# Methods x Time Horizon"
   ]
  },
  {
   "cell_type": "code",
   "execution_count": 250,
   "id": "4c7c238a",
   "metadata": {},
   "outputs": [
    {
     "data": {
      "text/plain": [
       "<matplotlib.legend.Legend at 0x7f2eda7db3d0>"
      ]
     },
     "execution_count": 250,
     "metadata": {},
     "output_type": "execute_result"
    },
    {
     "data": {
      "image/png": "[encoded data removed]",
      "text/plain": [
       "<Figure size 432x288 with 1 Axes>"
      ]
     },
     "metadata": {
      "needs_background": "light"
     },
     "output_type": "display_data"
    }
   ],
   "source": [
    "#time_horizon = 100\n",
    "baseline = ipcc_2000\n",
    "delay = 1\n",
    "discount_rate = 0.0\n",
    "\n",
    "for method in ['mc','ipcc']:\n",
    "    num_needed = []\n",
    "    for time_horizon in np.arange(100,1000):\n",
    "        num_needed.append(1/get_tonyear_setup(method,time_horizon, baseline, delay, discount_rate)['num_needed'])\n",
    "    plt.plot(num_needed,label=method)\n",
    "\n",
    "plt.xlabel('time horizon')\n",
    "plt.ylabel('number needed')\n",
    "plt.legend()"
   ]
  },
  {
   "cell_type": "markdown",
   "id": "952322a0",
   "metadata": {},
   "source": [
    "# Methods x Discounting"
   ]
  },
  {
   "cell_type": "markdown",
   "id": "8e78b87f",
   "metadata": {},
   "source": [
    "Lashof excluded in the graph below as it is highly sensitive to discounting and blows up as discount rate increases"
   ]
  },
  {
   "cell_type": "code",
   "execution_count": 256,
   "id": "3a61230b",
   "metadata": {},
   "outputs": [
    {
     "data": {
      "text/plain": [
       "<matplotlib.legend.Legend at 0x7f2ed8b4cee0>"
      ]
     },
     "execution_count": 256,
     "metadata": {},
     "output_type": "execute_result"
    },
    {
     "data": {
      "image/png": "[encoded data removed]",
      "text/plain": [
       "<Figure size 432x288 with 1 Axes>"
      ]
     },
     "metadata": {
      "needs_background": "light"
     },
     "output_type": "display_data"
    }
   ],
   "source": [
    "time_horizon = 100\n",
    "baseline = ipcc_2000\n",
    "delay = 1\n",
    "#discount_rate = 0.0\n",
    "\n",
    "d = np.linspace(0, 0.1, 30)\n",
    "for method in ['mc','ipcc']:\n",
    "    num_needed = []\n",
    "    for discount_rate in d:\n",
    "        num_needed.append(1/get_tonyear_setup(method,time_horizon, baseline, delay, discount_rate)['num_needed'])\n",
    "    plt.plot(d, num_needed,label=method)\n",
    "\n",
    "plt.xlabel('discount rate')\n",
    "plt.ylabel('number needed')\n",
    "plt.legend()\n"
   ]
  },
  {
   "cell_type": "markdown",
   "id": "8a7e4529",
   "metadata": {},
   "source": [
    "# Case Study: NCX "
   ]
  },
  {
   "cell_type": "markdown",
   "id": "42428208",
   "metadata": {},
   "source": [
    "Moura-costa method? \n",
    "\n",
    "- Time horizon: 100 years\n",
    "- 1 tCO2e equivalency: 48 ton-years, citing IPCC 2007\n",
    "- Discount rate: 3.3% → 17 ton-years today = 48 ton-years over 100 year\n",
    "\n",
    "See \"Forest and Carbon: A Guide for Buyers and Policymakers\", p.21-24 for a description of the NCX ton-year accounting method: https://ncx.com/wp-content/uploads/2021/06/Forests-and-Carbon_A-Guide-for-Buyers-and-Policymakers_SilviaTerra2020_v0.4-2-1.pdf "
   ]
  },
  {
   "cell_type": "code",
   "execution_count": 192,
   "id": "2689a1fa",
   "metadata": {},
   "outputs": [
    {
     "name": "stdout",
     "output_type": "stream",
     "text": [
      "\n",
      "Discount rate: 3.3%\n",
      "Delay: 1 year(s)\n",
      "Baseline atmospheric cost: 17.18 ton-years\n",
      "Benefit from 1tCO2 with delay: 0.98 ton-years\n",
      "Number tCO2 with delay needed: 17.5\n",
      "\n"
     ]
    }
   ],
   "source": [
    "time_horizon = 100\n",
    "baseline = ipcc_2007\n",
    "delay = 1\n",
    "discount_rate = 0.033\n",
    "\n",
    "ncx = get_tonyear_setup('mc',time_horizon, baseline, delay, discount_rate)\n",
    "print_benefit_report(ncx, plot=False)"
   ]
  },
  {
   "cell_type": "markdown",
   "id": "8474043a",
   "metadata": {},
   "source": [
    "If only cost is discounted (not the cost and benefit), then we replicate the ncx ratio of 17 to 1: "
   ]
  },
  {
   "cell_type": "code",
   "execution_count": 193,
   "id": "ac1034c4",
   "metadata": {},
   "outputs": [
    {
     "name": "stdout",
     "output_type": "stream",
     "text": [
      "Baseline atmospheric impact: 17.18 ton-years\n",
      "Delay: 1 year(s)\n",
      "Benefit from delay: 1.0 ton-years\n",
      "Number needed: 17.2\n"
     ]
    }
   ],
   "source": [
    "discount_rate = 0\n",
    "ncx_alt = get_tonyear_setup('mc',time_horizon, baseline, delay, discount_rate)\n",
    "\n",
    "cost = ncx['baseline_atm_impact']\n",
    "benefit = ncx_alt['benefit']\n",
    "\n",
    "print('Baseline atmospheric impact: ' + str(round(cost,2)) + ' ton-years')\n",
    "print('Delay: ' + str(ncx['delay']) + ' year(s)')\n",
    "print('Benefit from delay: ' + str(round(benefit,2)) + ' ton-years')\n",
    "print('Number needed: ' + str(round(cost/benefit,1)))"
   ]
  },
  {
   "cell_type": "markdown",
   "id": "807e2d12",
   "metadata": {},
   "source": [
    "### Cost sensitivity"
   ]
  },
  {
   "cell_type": "markdown",
   "id": "0c1b6937",
   "metadata": {},
   "source": [
    "Imagine the cost carbon credit is $10/permanent ton, where a 'permanent ton' is a handful of ton-years packaged up according to the NCX methodology modeled above. We can then calculate the cost per ton-year:"
   ]
  },
  {
   "cell_type": "code",
   "execution_count": 194,
   "id": "948b29b2",
   "metadata": {},
   "outputs": [
    {
     "data": {
      "text/plain": [
       "0.58"
      ]
     },
     "execution_count": 194,
     "metadata": {},
     "output_type": "execute_result"
    }
   ],
   "source": [
    "ton_year_cost = 10/ncx['baseline_atm_impact']\n",
    "round(ton_year_cost,2)"
   ]
  },
  {
   "cell_type": "markdown",
   "id": "ad9a3a36",
   "metadata": {},
   "source": [
    "\n",
    "If the cost of a ton-year reflects a true cost of taking an action today, we can ask how the cost of a buying a 'permanent ton' via ton-years today changes as we change the method or parameters:"
   ]
  },
  {
   "cell_type": "code",
   "execution_count": 225,
   "id": "e68ad9a0",
   "metadata": {},
   "outputs": [
    {
     "name": "stdout",
     "output_type": "stream",
     "text": [
      "\n",
      "Discount rate: 0.0%\n",
      "Delay: 1 year(s)\n",
      "Baseline atmospheric cost: 310.16 ton-years\n",
      "Benefit from 1tCO2 with delay: 0.24 ton-years\n",
      "Number tCO2 with delay needed: 1319.4\n",
      "\n",
      "Cost of permanent ton: $767.84\n"
     ]
    }
   ],
   "source": [
    "time_horizon = 1000\n",
    "baseline = joos_2013\n",
    "delay = 1\n",
    "discount_rate = 0.00\n",
    "\n",
    "ncx = get_tonyear_setup('ipcc', time_horizon, baseline, delay, discount_rate)\n",
    "print_benefit_report(ncx, False)\n",
    "print('Cost of permanent ton: $' + str(round(ton_year_cost * ncx['num_needed'],2)))"
   ]
  }
 ],
 "metadata": {
  "kernelspec": {
   "display_name": "Python [conda env:notebook] *",
   "language": "python",
   "name": "conda-env-notebook-py"
  },
  "language_info": {
   "codemirror_mode": {
    "name": "ipython",
    "version": 3
   },
   "file_extension": ".py",
   "mimetype": "text/x-python",
   "name": "python",
   "nbconvert_exporter": "python",
   "pygments_lexer": "ipython3",
   "version": "3.8.10"
  }
 },
 "nbformat": 4,
 "nbformat_minor": 5
}
