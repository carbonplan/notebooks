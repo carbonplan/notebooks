{
 "cells": [
  {
   "cell_type": "code",
   "execution_count": 1,
   "id": "0ba0caf0",
   "metadata": {},
   "outputs": [],
   "source": [
    "%matplotlib inline\n",
    "\n",
    "import logging\n",
    "import matplotlib.pyplot as plt\n",
    "import numpy as np\n",
    "import pandas as pd\n",
    "import math"
   ]
  },
  {
   "cell_type": "markdown",
   "id": "7d38e207",
   "metadata": {},
   "source": [
    "# Carbon Impulse Response Function (i.e. the baseline curve)"
   ]
  },
  {
   "cell_type": "markdown",
   "id": "c4de8f31",
   "metadata": {},
   "source": [
    "This section models two Impulse Reponse Functions (IRFs). An IRF represents the time-dependent fraction of an  emission pulse remaining in the atmosphere at time t. It is convenient to describe the IRF for a particular gas X by exponential functions:\n",
    "\n",
    "$ IRF_x(t) = a_{x,0} + \\sum_{i=1}^{3} a_{x,i} * e^{-t / tau_i} $\n",
    "\n",
    "The $a$ and $tau$ parameters for CO2 can be taken from literature: \n",
    "\n",
    "- Joos, F., Roth, R., Fuglestvedt, J. S., Peters, G. P., Enting, I. G., von Bloh, W., Brovkin, V., Burke, E. J., Eby, M., Edwards, N. R., Friedrich, T., Frölicher, T. L., Halloran, P. R., Holden, P. B., Jones, C., Kleinen, T., Mackenzie, F. T., Matsumoto, K., Meinshausen, M., Plattner, G.-K., Reisinger, A., Segschneider, J., Shaffer, G., Steinacher, M., Strassmann, K., Tanaka, K., Timmermann, A., and Weaver, A. J.: Carbon dioxide and climate impulse response functions for the computation of greenhouse gas metrics: a multi-model analysis, Atmos. Chem. Phys., 13, 2793–2825, https://doi.org/10.5194/acp-13-2793-2013, 2013.\n",
    "\n",
    "- Forster, P., V. Ramaswamy, P. Artaxo, T. Berntsen, R. Betts, D.W. Fahey, J. Haywood, J. Lean, D.C. Lowe, G. Myhre, J. Nganga, R. Prinn, G. Raga, M. Schulz and R. Van Dorland, 2007: Changes in Atmospheric Constituents and in Radiative Forcing. In: Climate Change 2007: The Physical Science Basis. Contribution of Working Group I to the Fourth Assessment Report of the Intergovernmental Panel on Climate Change [Solomon, S., D. Qin, M. Manning, Z. Chen, M. Marquis, K.B. Averyt, M.Tignor and H.L. Miller (eds.)]: https://www.ipcc.ch/site/assets/uploads/2018/02/ar4-wg1-chapter2-1.pdf (pg. 2013)\n",
    "\n",
    "- IPCC: Special Report on Land Use, Land‐Use Change, and Forestry, Section 2.3.6.3, 2000, https://archive.ipcc.ch/ipccreports/sres/land_use/index.php?idp=74 and footnote https://archive.ipcc.ch/ipccreports/sres/land_use/fn3.htm#4\n"
   ]
  },
  {
   "cell_type": "code",
   "execution_count": 2,
   "id": "f7919829",
   "metadata": {},
   "outputs": [],
   "source": [
    "def IRF(t_horizon, curve):\n",
    "    \n",
    "    if curve == 'joos_2013':\n",
    "        # parameters from Joos et al, 2013 (Table 5)\n",
    "        a = [0.2173, 0.2240, 0.2824, 0.2763]\n",
    "        tau = [0, 394.4, 36.54, 4.304]\n",
    "    elif curve == 'ipcc_2007':\n",
    "        # parameters from IPCC 2007 (page 213)\n",
    "        a = [0.217, 0.259, 0.338, 0.186]\n",
    "        tau = [0, 172.9, 18.51, 1.186]\n",
    "    elif curve == 'ipcc_2000':\n",
    "        # parameters from IPCC Special Report 2000\n",
    "        a = [0.175602, 0.137467, 0.18576, 0.242302, 0.258868]\n",
    "        tau = [0, 421.093, 70.5965, 21.42165, 3.41537]\n",
    "\n",
    "    IRF = [a[0]] * len(t_horizon)\n",
    "    for t in t_horizon:\n",
    "        for i in np.arange(1,len(a)):\n",
    "            IRF[t] =  IRF[t] + (a[i] * np.exp(-t/tau[i]))\n",
    "    \n",
    "    return IRF"
   ]
  },
  {
   "cell_type": "code",
   "execution_count": 3,
   "id": "6cbc8ce8",
   "metadata": {},
   "outputs": [
    {
     "data": {
      "text/plain": [
       "<matplotlib.legend.Legend at 0x7f536b9b7820>"
      ]
     },
     "execution_count": 3,
     "metadata": {},
     "output_type": "execute_result"
    },
    {
     "data": {
      "image/png": "[encoded data removed]",
      "text/plain": [
       "<Figure size 432x288 with 1 Axes>"
      ]
     },
     "metadata": {
      "needs_background": "light"
     },
     "output_type": "display_data"
    }
   ],
   "source": [
    "t_horizon = np.arange(1001)\n",
    "ipcc_2000 = IRF(t_horizon, 'ipcc_2000')\n",
    "ipcc_2007 = IRF(t_horizon, 'ipcc_2007')\n",
    "joos_2013 = IRF(t_horizon, 'joos_2013')\n",
    "plt.plot(t_horizon, ipcc_2000, label='ipcc_2000')\n",
    "plt.plot(t_horizon, ipcc_2007, label='ipcc_2007')\n",
    "plt.plot(t_horizon, joos_2013, label='joos_2013')\n",
    "plt.legend()"
   ]
  },
  {
   "cell_type": "markdown",
   "id": "a54e7f6f",
   "metadata": {},
   "source": [
    "Joos et al. (2013) report the following time-dependent fractions of an original pulse of CO2 remaining in the atmosphere in their results, section 4.1: \n",
    "- 0.6 +- 0.14 at year 20\n",
    "- 0.4 +- 0.13 at year 100\n",
    "- 0.25 +- 0.09 at year 1000\n",
    "\n",
    "We can compare that to the joos_2013 curve we generated above: "
   ]
  },
  {
   "cell_type": "code",
   "execution_count": 4,
   "id": "26f453e1",
   "metadata": {},
   "outputs": [
    {
     "name": "stdout",
     "output_type": "stream",
     "text": [
      "At t=20:   0.596\n",
      "At t=100:  0.409\n",
      "At t=1000: 0.235\n",
      "\n"
     ]
    }
   ],
   "source": [
    "for curve in [joos_2013]:\n",
    "    print('At t=20:   '+ str(round(curve[20],3)))\n",
    "    print('At t=100:  '+ str(round(curve[100],3)))\n",
    "    print('At t=1000: '+ str(round(curve[-1],3)))\n",
    "    print()"
   ]
  },
  {
   "cell_type": "markdown",
   "id": "fd54ec1e",
   "metadata": {},
   "source": [
    "--> **what's going on at t=1000?** <--"
   ]
  },
  {
   "cell_type": "markdown",
   "id": "13560a6f",
   "metadata": {},
   "source": [
    "# Ton-year benefit calculations"
   ]
  },
  {
   "cell_type": "markdown",
   "id": "3c0e4f26",
   "metadata": {},
   "source": [
    "Check these against IPCC special report #s for the three methods (https://archive.ipcc.ch/ipccreports/sres/land_use/index.php?idp=74) with: \n",
    "- time horizon = 100\n",
    "- baseline = ipcc_2000\n",
    "- delay = 46"
   ]
  },
  {
   "cell_type": "code",
   "execution_count": 5,
   "id": "fc060680",
   "metadata": {},
   "outputs": [],
   "source": [
    "time_horizon = 100\n",
    "delay = 46\n",
    "baseline = ipcc_2000\n",
    "scale = 1\n",
    "discount_rate = 0"
   ]
  },
  {
   "cell_type": "markdown",
   "id": "51d50eb8",
   "metadata": {},
   "source": [
    "### Helpers"
   ]
  },
  {
   "cell_type": "code",
   "execution_count": 6,
   "id": "fcfb4503",
   "metadata": {},
   "outputs": [],
   "source": [
    "def discount(discount_rate, curve): \n",
    "    return [b/math.pow(1+discount_rate, i) for i,b in enumerate(curve)]"
   ]
  },
  {
   "cell_type": "code",
   "execution_count": 7,
   "id": "8d4df283",
   "metadata": {},
   "outputs": [],
   "source": [
    "def print_benefit_report(delay, benefit, baseline_benefit, discount_rate=0):\n",
    "    print()\n",
    "    print('Delay: ' + str(delay) + ' years')\n",
    "    if discount_rate > 0: \n",
    "        print('Discount rate: ' + str(discount_rate))\n",
    "    print('Benefit: ' + str(round(benefit,2)) + ' ton-years')\n",
    "    print('\"Permanent\" benefit: ' + str(round(baseline_benefit,2)) + ' ton-years')\n",
    "    print('Permanent-equivalent achieved: ' + str(round(benefit/baseline_benefit,2)))\n",
    "    print()"
   ]
  },
  {
   "cell_type": "markdown",
   "id": "65713032",
   "metadata": {},
   "source": [
    "### Moura-Costa method"
   ]
  },
  {
   "cell_type": "markdown",
   "id": "1e706875",
   "metadata": {},
   "source": [
    "Calculates ton years via a simple equivalence b/w the carbon stored in the carbon stock ton-years to carbon curve ton-years"
   ]
  },
  {
   "cell_type": "code",
   "execution_count": 8,
   "id": "52a2ad4c",
   "metadata": {},
   "outputs": [],
   "source": [
    "def moura_costa(time_horizon, baseline, delay, scale, discount_rate):\n",
    "    t = np.arange(time_horizon+1)\n",
    "    baseline = baseline[0:time_horizon+1]\n",
    "    scenario = [-scale]*(delay+1) + [0]*(time_horizon-(delay))               \n",
    "    benefit = -np.trapz(scenario[:delay+1])\n",
    "    baseline_benefit = np.trapz(baseline)\n",
    "\n",
    "    baseline_discounted = discount(discount_rate, baseline)\n",
    "    scenario_discounted = discount(discount_rate, scenario)\n",
    "    benefit_discounted = -np.trapz(scenario_discounted[:delay+1])\n",
    "    baseline_benefit_discounted = np.trapz(baseline_discounted)\n",
    "    \n",
    "    return {'t': t,\n",
    "            'scenario': scenario, \n",
    "            'baseline': baseline, \n",
    "            'benefit': benefit, \n",
    "            'baseline_benefit': baseline_benefit, \n",
    "            'scenario_discounted': scenario_discounted,\n",
    "            'baseline_discounted': baseline_discounted,\n",
    "            'benefit_discounted': benefit_discounted,\n",
    "            'baseline_benefit_discounted': baseline_benefit_discounted}"
   ]
  },
  {
   "cell_type": "code",
   "execution_count": 9,
   "id": "668ec808",
   "metadata": {},
   "outputs": [
    {
     "name": "stdout",
     "output_type": "stream",
     "text": [
      "\n",
      "Delay: 46 years\n",
      "Benefit: 46.0 ton-years\n",
      "\"Permanent\" benefit: 45.76 ton-years\n",
      "Permanent-equivalent achieved: 1.01\n",
      "\n"
     ]
    },
    {
     "data": {
      "image/png": "[encoded data removed]",
      "text/plain": [
       "<Figure size 432x288 with 1 Axes>"
      ]
     },
     "metadata": {
      "needs_background": "light"
     },
     "output_type": "display_data"
    }
   ],
   "source": [
    "m = moura_costa(time_horizon, baseline, delay, scale, discount_rate)\n",
    "print_benefit_report(delay, m['benefit'], m['baseline_benefit'], discount_rate)\n",
    "plot = plt.plot(m['baseline'], label=\"baseline (atmosphere)\")\n",
    "plot = plt.plot(m['scenario'], label=\"scenario (carbon stock)\")\n",
    "plot = plt.fill_between(m['t'], m['scenario'], where=(np.array(m['scenario'])<0), alpha = 0.4)\n",
    "plot = plt.fill_between(m['t'], m['baseline'], alpha = 0.2)\n",
    "plot = plt.legend()"
   ]
  },
  {
   "cell_type": "markdown",
   "id": "73ac721c",
   "metadata": {},
   "source": [
    "### Lashof method"
   ]
  },
  {
   "cell_type": "code",
   "execution_count": 10,
   "id": "0fc27eb3",
   "metadata": {},
   "outputs": [],
   "source": [
    "def lashof(time_horizon, baseline, delay, scale=1, discount_rate=0): \n",
    "    t = np.arange(time_horizon + delay + 1)\n",
    "    baseline = baseline[0:time_horizon+1] \n",
    "    scenario = [0]* delay + baseline\n",
    "    scenario = [s*scale for s in scenario]\n",
    "    baseline = baseline + [0]*delay\n",
    "    benefit = np.trapz(scenario[time_horizon:])\n",
    "    baseline_benefit = np.trapz(baseline)\n",
    "\n",
    "    baseline_discounted = discount(discount_rate, baseline)\n",
    "    scenario_discounted = discount(discount_rate, scenario)\n",
    "    benefit_discounted = np.trapz(scenario_discounted[time_horizon:])\n",
    "    baseline_benefit_discounted = np.trapz(baseline_discounted)\n",
    "    \n",
    "    return {'t': t,\n",
    "            'scenario': scenario, \n",
    "            'baseline': baseline, \n",
    "            'benefit': benefit, \n",
    "            'baseline_benefit': baseline_benefit, \n",
    "            'scenario_discounted': scenario_discounted,\n",
    "            'baseline_discounted': baseline_discounted,\n",
    "            'benefit_discounted': benefit_discounted, \n",
    "            'baseline_benefit_discounted': baseline_benefit_discounted}"
   ]
  },
  {
   "cell_type": "code",
   "execution_count": 11,
   "id": "d8cee3f3",
   "metadata": {},
   "outputs": [
    {
     "name": "stdout",
     "output_type": "stream",
     "text": [
      "\n",
      "Delay: 46 years\n",
      "Benefit: 16.64 ton-years\n",
      "\"Permanent\" benefit: 45.93 ton-years\n",
      "Permanent-equivalent achieved: 0.36\n",
      "\n"
     ]
    },
    {
     "data": {
      "image/png": "[encoded data removed]",
      "text/plain": [
       "<Figure size 432x288 with 1 Axes>"
      ]
     },
     "metadata": {
      "needs_background": "light"
     },
     "output_type": "display_data"
    }
   ],
   "source": [
    "l = lashof(time_horizon, baseline, delay)\n",
    "print_benefit_report(delay, l['benefit'], l['baseline_benefit'], discount_rate)\n",
    "plot = plt.plot(l['baseline'], label=\"baseline (atmosphere)\")\n",
    "plot = plt.plot(l['scenario'], label=\"scenario (atmosphere)\")\n",
    "plot = plt.fill_between(l['t'], l['scenario'], where=(l['t']>time_horizon), alpha = 0.4)\n",
    "plot = plt.legend()"
   ]
  },
  {
   "cell_type": "markdown",
   "id": "0edda404",
   "metadata": {},
   "source": [
    "### IPCC method "
   ]
  },
  {
   "cell_type": "markdown",
   "id": "e5720690",
   "metadata": {},
   "source": [
    "Take into account full re-emission; comparison of atmophere in measurement scenario and counterfactual"
   ]
  },
  {
   "cell_type": "code",
   "execution_count": 12,
   "id": "edaaf972",
   "metadata": {},
   "outputs": [],
   "source": [
    "def ipcc(time_horizon, baseline, delay, scale=1, discount_rate=0):\n",
    "    t = np.arange(time_horizon+1)\n",
    "    baseline = baseline[0:time_horizon+1]\n",
    "    scenario = [0]*(delay+1) + baseline[0:(time_horizon-(delay))]\n",
    "    scenario = [s*scale for s in scenario]\n",
    "    benefit = np.trapz(baseline) - np.trapz(scenario)\n",
    "    baseline_benefit = np.trapz(baseline) \n",
    "       \n",
    "    baseline_discounted = discount(discount_rate, baseline)\n",
    "    scenario_discounted = discount(discount_rate, scenario)\n",
    "    benefit_discounted = np.trapz(baseline_discounted) - np.trapz(scenario_discounted)\n",
    "    baseline_benefit_discounted = np.trapz(baseline_discounted)\n",
    "    \n",
    "    return {'t': t, \n",
    "            'scenario': scenario, \n",
    "            'baseline': baseline, \n",
    "            'benefit': benefit, \n",
    "            'baseline_benefit': baseline_benefit, \n",
    "            'scenario_discounted': scenario_discounted,\n",
    "            'baseline_discounted': baseline_discounted,\n",
    "            'benefit_discounted': benefit_discounted, \n",
    "            'baseline_benefit_discounted': baseline_benefit_discounted}"
   ]
  },
  {
   "cell_type": "code",
   "execution_count": 13,
   "id": "f547bf74",
   "metadata": {},
   "outputs": [
    {
     "name": "stdout",
     "output_type": "stream",
     "text": [
      "\n",
      "Delay: 46 years\n",
      "Benefit: 16.54 ton-years\n",
      "\"Permanent\" benefit: 45.76 ton-years\n",
      "Permanent-equivalent achieved: 0.36\n",
      "\n"
     ]
    },
    {
     "data": {
      "image/png": "[encoded data removed]",
      "text/plain": [
       "<Figure size 432x288 with 1 Axes>"
      ]
     },
     "metadata": {
      "needs_background": "light"
     },
     "output_type": "display_data"
    }
   ],
   "source": [
    "i = ipcc(time_horizon, baseline, delay)\n",
    "print_benefit_report(delay, i['benefit'], i['baseline_benefit'], discount_rate)\n",
    "plot = plt.plot(i['baseline'], label=\"baseline (atmosphere)\")\n",
    "plot = plt.plot(i['scenario'], label=\"scenario (atmosphere)\")\n",
    "plot = plt.fill_between(i['t'], i['baseline'], i['scenario'], where=np.array(i['scenario']) > np.array(i['baseline']), alpha=0.2) \n",
    "plot = plt.legend()"
   ]
  },
  {
   "cell_type": "markdown",
   "id": "93afc86e",
   "metadata": {},
   "source": [
    "# Case Study: NCX "
   ]
  },
  {
   "cell_type": "markdown",
   "id": "2953e437",
   "metadata": {},
   "source": [
    "Moura-costa method? \n",
    "\n",
    "- Time horizon: 100 years\n",
    "- 1 tCO2e equivalency: 48 ton-years, citing IPCC 2007\n",
    "- Discount rate: 3.3% → 17 ton-years today = 48 ton-years over 100 year\n",
    "\n",
    "See \"Forest and Carbon: A Guide for Buyers and Policymakers\", p.21-24 for a description of the NCX ton-year accounting method: https://ncx.com/wp-content/uploads/2021/06/Forests-and-Carbon_A-Guide-for-Buyers-and-Policymakers_SilviaTerra2020_v0.4-2-1.pdf "
   ]
  },
  {
   "cell_type": "code",
   "execution_count": 14,
   "id": "c90439e1",
   "metadata": {},
   "outputs": [
    {
     "name": "stdout",
     "output_type": "stream",
     "text": [
      "\n",
      "Delay: 1 years\n",
      "Benefit: 17.0 ton-years\n",
      "\"Permanent\" benefit: 45.76 ton-years\n",
      "Permanent-equivalent achieved: 0.37\n",
      "\n"
     ]
    }
   ],
   "source": [
    "time_horizon = 100\n",
    "delay = 1\n",
    "scale = 17\n",
    "discount_rate = 0.033\n",
    "\n",
    "ncx = moura_costa(time_horizon, baseline, delay, scale, discount_rate)\n",
    "print_benefit_report(delay, ncx['benefit'], ncx['baseline_benefit'])"
   ]
  },
  {
   "cell_type": "code",
   "execution_count": 15,
   "id": "7d305574",
   "metadata": {},
   "outputs": [
    {
     "name": "stdout",
     "output_type": "stream",
     "text": [
      "\n",
      "Delay: 1 years\n",
      "Discount rate: 0.033\n",
      "Benefit: 17.0 ton-years\n",
      "\"Permanent\" benefit: 16.83 ton-years\n",
      "Permanent-equivalent achieved: 1.01\n",
      "\n"
     ]
    },
    {
     "data": {
      "image/png": "[encoded data removed]",
      "text/plain": [
       "<Figure size 432x288 with 1 Axes>"
      ]
     },
     "metadata": {
      "needs_background": "light"
     },
     "output_type": "display_data"
    }
   ],
   "source": [
    "print_benefit_report(delay, ncx['benefit'], ncx['baseline_benefit_discounted'], discount_rate)\n",
    "plot = plt.plot(ncx['baseline'], label=\"baseline (atmosphere)\")\n",
    "plot = plt.plot(ncx['scenario'], label=\"scenario (carbon stock)\")\n",
    "plot = plt.plot(ncx['baseline_discounted'], label=\"baseline_discounted (atmosphere)\")\n",
    "plot = plt.fill_between(ncx['t'], ncx['scenario'], where=(np.array(m['scenario'])<0), alpha = 0.4)\n",
    "plot = plt.fill_between(ncx['t'], ncx['baseline_discounted'], alpha = 0.2)\n",
    "plot = plt.legend()"
   ]
  },
  {
   "cell_type": "markdown",
   "id": "96b40582",
   "metadata": {},
   "source": [
    "### Cost sensitivity"
   ]
  },
  {
   "cell_type": "markdown",
   "id": "5345699b",
   "metadata": {},
   "source": [
    "Imagine the cost carbon credit is $10/permanent ton, where a 'permanent ton' is a handful of ton-years packaged up according to the NCX methodology. Since a 'permanent ton' = 17 ton-years, we can say that each ton-year costs: 59 cents. We can then ask, how does the cost of a 'permanent ton' change if the cost of a ton-year is reflects something true about taking an action today, and we change the methodology or parameters for calculating the equivalence between ton-years and permanent tons?"
   ]
  },
  {
   "cell_type": "code",
   "execution_count": 16,
   "id": "821edbe8",
   "metadata": {},
   "outputs": [
    {
     "data": {
      "text/plain": [
       "0.59"
      ]
     },
     "execution_count": 16,
     "metadata": {},
     "output_type": "execute_result"
    }
   ],
   "source": [
    "ton_year_cost = 10/17\n",
    "round(ton_year_cost,2)"
   ]
  },
  {
   "cell_type": "markdown",
   "id": "91ab3fab",
   "metadata": {},
   "source": [
    "Imagine that instead of using a discount rate of 3.3%, NCX was using a discount rate of 2% or 5%. In the moura costa method, NCX would need to "
   ]
  },
  {
   "cell_type": "code",
   "execution_count": 17,
   "id": "2d567513",
   "metadata": {},
   "outputs": [
    {
     "name": "stdout",
     "output_type": "stream",
     "text": [
      "Discount rate: 0.02\n",
      "Number of tons needed today for equivalence: 22.92995227165563\n",
      "Cost of permanent ton: $13.49\n",
      "\n",
      "Discount rate: 0.05\n",
      "Number of tons needed today for equivalence: 12.494765668785082\n",
      "Cost of permanent ton: $7.35\n",
      "\n"
     ]
    }
   ],
   "source": [
    "for d in [0.02, 0.05]:\n",
    "    ncx = moura_costa(time_horizon, baseline, delay, scale=1, discount_rate=d)\n",
    "    equivalence = ncx['baseline_benefit_discounted']\n",
    "    print('Discount rate: ' + str(d))\n",
    "    print('Number of tons needed today for equivalence: '+ str(ncx['baseline_benefit_discounted']))\n",
    "    print('Cost of permanent ton: $' + str(round(ton_year_cost * ncx['baseline_benefit_discounted'],2)))\n",
    "    print()"
   ]
  },
  {
   "cell_type": "markdown",
   "id": "6eb12fa1",
   "metadata": {},
   "source": [
    "If no discount is applied, the time horizon can also have a large effect on the cost of a 'permanent' ton. For instance: "
   ]
  },
  {
   "cell_type": "code",
   "execution_count": 18,
   "id": "3a403d01",
   "metadata": {},
   "outputs": [
    {
     "name": "stdout",
     "output_type": "stream",
     "text": [
      "Time horizon: 100\n",
      "Number of tons needed today for equivalence: 45.76289499601616\n",
      "Cost of permanent ton: $26.92\n",
      "\n",
      "Time horizon: 200\n",
      "Number of tons needed today for equivalence: 75.43054816071503\n",
      "Cost of permanent ton: $44.37\n",
      "\n",
      "Time horizon: 500\n",
      "Number of tons needed today for equivalence: 147.2161504699034\n",
      "Cost of permanent ton: $86.6\n",
      "\n",
      "Time horizon: 1000\n",
      "Number of tons needed today for equivalence: 247.299021242553\n",
      "Cost of permanent ton: $145.47\n",
      "\n"
     ]
    },
    {
     "data": {
      "image/png": "[encoded data removed]",
      "text/plain": [
       "<Figure size 432x288 with 1 Axes>"
      ]
     },
     "metadata": {
      "needs_background": "light"
     },
     "output_type": "display_data"
    }
   ],
   "source": [
    "for t in [100, 200, 500, 1000]:\n",
    "    ncx = moura_costa(t, baseline, delay, scale=1, discount_rate=0)\n",
    "    plot = plt.plot(ncx['baseline'], label=\"baseline (atmosphere)\")\n",
    "    plot = plt.plot(ncx['scenario'], label=\"scenario (carbon stock)\")\n",
    "    equivalence = ncx['baseline_benefit_discounted']/ncx['benefit']\n",
    "    print('Time horizon: ' + str(t))\n",
    "    print('Number of tons needed today for equivalence: '+ str(equivalence))\n",
    "    print('Cost of permanent ton: $' + str(round(ton_year_cost * equivalence,2)))\n",
    "    print()"
   ]
  },
  {
   "cell_type": "markdown",
   "id": "d8179e98",
   "metadata": {},
   "source": [
    "If instead the discount rate stayed as is, but the method is changed to reflect what happens to the tons after the 1 year storage period:"
   ]
  },
  {
   "cell_type": "code",
   "execution_count": 19,
   "id": "0f32c0b9",
   "metadata": {},
   "outputs": [
    {
     "name": "stdout",
     "output_type": "stream",
     "text": [
      "\n",
      "Delay: 1 years\n",
      "Discount rate: 0.033\n",
      "Benefit: 0.16 ton-years\n",
      "\"Permanent\" benefit: 16.83 ton-years\n",
      "Permanent-equivalent achieved: 0.01\n",
      "\n",
      "Number of tons needed today for equivalence: 102.20612233520042\n",
      "Cost of permanent ton: $60.12\n",
      "\n"
     ]
    },
    {
     "data": {
      "image/png": "[encoded data removed]",
      "text/plain": [
       "<Figure size 432x288 with 1 Axes>"
      ]
     },
     "metadata": {
      "needs_background": "light"
     },
     "output_type": "display_data"
    }
   ],
   "source": [
    "ncx = ipcc(time_horizon, baseline, delay, scale=1, discount_rate=0.033)\n",
    "print_benefit_report(delay, ncx['benefit'], ncx['baseline_benefit_discounted'], discount_rate)\n",
    "plot = plt.plot(ncx['baseline'], label=\"baseline (atmosphere)\")\n",
    "plot = plt.plot(ncx['scenario'], label=\"scenario (carbon stock)\")\n",
    "equivalence = ncx['baseline_benefit_discounted']/ncx['benefit']\n",
    "print('Number of tons needed today for equivalence: '+ str(equivalence))\n",
    "print('Cost of permanent ton: $' + str(round(ton_year_cost * equivalence,2)))\n",
    "print()"
   ]
  },
  {
   "cell_type": "code",
   "execution_count": null,
   "id": "12d69df9",
   "metadata": {},
   "outputs": [],
   "source": []
  }
 ],
 "metadata": {
  "kernelspec": {
   "display_name": "Python [conda env:notebook] *",
   "language": "python",
   "name": "conda-env-notebook-py"
  },
  "language_info": {
   "codemirror_mode": {
    "name": "ipython",
    "version": 3
   },
   "file_extension": ".py",
   "mimetype": "text/x-python",
   "name": "python",
   "nbconvert_exporter": "python",
   "pygments_lexer": "ipython3",
   "version": "3.8.10"
  }
 },
 "nbformat": 4,
 "nbformat_minor": 5
}
