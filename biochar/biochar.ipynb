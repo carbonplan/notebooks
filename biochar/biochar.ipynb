{
 "cells": [
  {
   "cell_type": "markdown",
   "metadata": {},
   "source": [
    "# Biochar lifetime analysis\n"
   ]
  },
  {
   "cell_type": "markdown",
   "metadata": {},
   "source": [
    "Here we present a simple toy model for evaluating the carbon removal and\n",
    "permanence of biochar projects. The data and analysis method is based directly\n",
    "on two publications\n",
    "\n",
    "- Spokas (2010) Review of the stability of biochar in soils: predictability of\n",
    "  O:C molar ratios, Carbon Management, doi: 10.4155/CMT.10.32\n",
    "\n",
    "- Campbell et al. (2018) Potential carbon storage in biochar made from logging\n",
    "  residue: Basic principles and Southern Oregon case studies, PLOS One, doi:\n",
    "  10.1371/journal.pone.0203475\n"
   ]
  },
  {
   "cell_type": "markdown",
   "metadata": {},
   "source": [
    "### Notebook setup\n"
   ]
  },
  {
   "cell_type": "code",
   "execution_count": null,
   "metadata": {},
   "outputs": [],
   "source": [
    "%matplotlib inline\n",
    "\n",
    "import logging\n",
    "import matplotlib.pyplot as plt\n",
    "import numpy as np\n",
    "import pandas as pd\n",
    "import pystan\n",
    "\n",
    "from carbonplan_styles.mpl import set_theme\n",
    "from carbonplan_styles.colors import colors\n",
    "\n",
    "# set options\n",
    "set_theme(style='carbonplan_light')\n",
    "c = colors('carbonplan_light')\n",
    "\n",
    "logger = logging.getLogger(\"pystan\")\n",
    "logger.setLevel(\"ERROR\")"
   ]
  },
  {
   "cell_type": "markdown",
   "metadata": {},
   "source": [
    "### The basic model\n"
   ]
  },
  {
   "cell_type": "markdown",
   "metadata": {},
   "source": [
    "Campbell et al. (2018) present a simple model for biochar carbon dynamics by\n",
    "comparing the carbon content of biomass after biocharing to the carbon content\n",
    "that would have resided in the form of the source feedstock (e.g. logging\n",
    "residues).\n"
   ]
  },
  {
   "cell_type": "markdown",
   "metadata": {},
   "source": [
    "The difference is\n"
   ]
  },
  {
   "cell_type": "markdown",
   "metadata": {},
   "source": [
    "$∆ = C_{biochar} - C_{biochar}$\n"
   ]
  },
  {
   "cell_type": "markdown",
   "metadata": {},
   "source": [
    "And the mass of carbon in both is modeled using a first-order differential\n",
    "equation\n"
   ]
  },
  {
   "cell_type": "markdown",
   "metadata": {},
   "source": [
    "$C_t = C_{t-1}e^{-k} + C_{input}$\n"
   ]
  },
  {
   "cell_type": "markdown",
   "metadata": {},
   "source": [
    "We'll write a function that generates a complete carbon curve as a function of\n",
    "the input and the parameter k over 1000 years\n"
   ]
  },
  {
   "cell_type": "code",
   "execution_count": null,
   "metadata": {},
   "outputs": [],
   "source": [
    "def model(t, initial, k):\n",
    "    return initial * np.exp(-k * t)"
   ]
  },
  {
   "cell_type": "markdown",
   "metadata": {},
   "source": [
    "And we can now plot carbon curves for both unmodified residue and biochar over a\n",
    "fixed duration, assuming an initial carbon content of 20 tC for the residue and\n",
    "12 tC for the biochar (which would be achieved through a pyrolysis process with\n",
    "60% efficiency).\n"
   ]
  },
  {
   "cell_type": "code",
   "execution_count": null,
   "metadata": {},
   "outputs": [],
   "source": [
    "t = np.arange(1000)\n",
    "residue = model(t, 20, 0.03)\n",
    "biochar = model(t, 12, 0.003)\n",
    "plt.plot(t, residue)\n",
    "plt.plot(t, biochar)\n",
    "plt.xlim([0, 200])\n",
    "plt.ylim([0, 20])"
   ]
  },
  {
   "cell_type": "markdown",
   "metadata": {},
   "source": [
    "This precisely matches Figure 1A from Campbell et al. (2019)\n"
   ]
  },
  {
   "cell_type": "markdown",
   "metadata": {},
   "source": [
    "These curves makes clear that biochar is not removing carbon per se, but rather\n",
    "avoiding the emissions that would have been associated with the corresponding\n",
    "feedstock. For that reason, the appropriate quantity is the difference between\n",
    "the two curves.\n"
   ]
  },
  {
   "cell_type": "code",
   "execution_count": null,
   "metadata": {},
   "outputs": [],
   "source": [
    "plt.plot(t, biochar - residue)\n",
    "plt.xlim([0, 200])\n",
    "plt.ylim([-10, 10])\n",
    "plt.hlines(0, 0, 200, color=c[\"secondary\"])"
   ]
  },
  {
   "cell_type": "markdown",
   "metadata": {},
   "source": [
    "As this curve makes clear, the cumulative effective carbon removal is initially\n",
    "negative, quickly reaches a compensation point, and then reaches a point termed\n",
    "by Campbell et al. (2018) as \"climate parity\" where the storage\n"
   ]
  },
  {
   "cell_type": "markdown",
   "metadata": {},
   "source": [
    "### Mapping O:C ratios to half life\n"
   ]
  },
  {
   "cell_type": "markdown",
   "metadata": {},
   "source": [
    "A key parameter in the above model is the decay rate (also referred to as the\n",
    "biochar's recalcitrance). Campbell et al. (2018) find that this parameter has\n",
    "little effect on the time at which climate parity is achieved, so long as it 10\n",
    "times greater than the decay rate feedstock. But it is also importantly related\n",
    "to the permanence, or time scale over which the carbon stored in the biochar\n",
    "remain.\n"
   ]
  },
  {
   "cell_type": "markdown",
   "metadata": {},
   "source": [
    "We can use data digitized from a meta-analysis by Spokas (2010) that relate the\n",
    "oxygen to carbon (O:C) molar ratio to the predicted half-life of synthetic\n",
    "biochar in various laboratory conditions.\n"
   ]
  },
  {
   "cell_type": "code",
   "execution_count": null,
   "metadata": {},
   "outputs": [],
   "source": [
    "data = pd.read_csv(\"biochar.csv\")"
   ]
  },
  {
   "cell_type": "code",
   "execution_count": null,
   "metadata": {},
   "outputs": [],
   "source": [
    "plt.plot(data.ratio, data.halflife, \".\")\n",
    "plt.xlim([0, 0.8])\n",
    "plt.ylim([1, 10 ** 8])\n",
    "plt.yscale(\"log\")"
   ]
  },
  {
   "cell_type": "markdown",
   "metadata": {},
   "source": [
    "We fit a simple linear model in log space so we can predict half-life as a\n",
    "function of ratio\n"
   ]
  },
  {
   "cell_type": "markdown",
   "metadata": {},
   "source": [
    "First we'll setup out fitting tools (in this case we're using PyStan) and define\n",
    "our linear model.\n"
   ]
  },
  {
   "cell_type": "code",
   "execution_count": null,
   "metadata": {},
   "outputs": [],
   "source": [
    "model_code = \"\"\"\n",
    "data {\n",
    "    int<lower=0> N;\n",
    "    vector[N] x;\n",
    "    vector[N] y;\n",
    "}\n",
    "parameters {\n",
    "    real alpha;\n",
    "    real beta;\n",
    "    real<lower=0> sigma;\n",
    "}\n",
    "model {\n",
    "    y ~ normal(alpha + beta * x, sigma);\n",
    "}\n",
    "\"\"\""
   ]
  },
  {
   "cell_type": "markdown",
   "metadata": {},
   "source": [
    "Then build our model\n"
   ]
  },
  {
   "cell_type": "code",
   "execution_count": null,
   "metadata": {},
   "outputs": [],
   "source": [
    "sm = pystan.StanModel(model_code=model_code, verbose=False)"
   ]
  },
  {
   "cell_type": "markdown",
   "metadata": {},
   "source": [
    "And run the sampler\n"
   ]
  },
  {
   "cell_type": "code",
   "execution_count": null,
   "metadata": {},
   "outputs": [],
   "source": [
    "fit = sm.sampling(\n",
    "    data=dict(x=data.ratio, y=np.log(data.halflife), N=34),\n",
    "    iter=1000,\n",
    "    warmup=500,\n",
    "    thin=1,\n",
    "    seed=101,\n",
    "    n_jobs=1,\n",
    ")\n",
    "result = fit.to_dataframe(permuted=True)\n",
    "alpha = result[\"alpha\"]\n",
    "beta = result[\"beta\"]"
   ]
  },
  {
   "cell_type": "markdown",
   "metadata": {},
   "source": [
    "We can plot regression lines with parameters sampled from the posterior to get a\n",
    "sense of the variability\n"
   ]
  },
  {
   "cell_type": "code",
   "execution_count": null,
   "metadata": {},
   "outputs": [],
   "source": [
    "plt.plot(data.ratio, data.halflife, \".\")\n",
    "xhat = np.arange(0, 1, 0.1)\n",
    "for i in range(1000):\n",
    "    yhat = np.exp(alpha[i] + beta[i] * xhat)\n",
    "    plt.plot(xhat, yhat, color=\"orange\", alpha=0.005)\n",
    "plt.yscale(\"log\")\n",
    "plt.xlim([0, 0.8])\n",
    "plt.ylim([1, 10 ** 8])"
   ]
  },
  {
   "cell_type": "markdown",
   "metadata": {},
   "source": [
    "Finally we write a simple function that, for a given ratio, returns the\n",
    "posterior predictive value at a given percentile.\n"
   ]
  },
  {
   "cell_type": "code",
   "execution_count": null,
   "metadata": {},
   "outputs": [],
   "source": [
    "def predict(ratio, prctile):\n",
    "    dist = np.exp(alpha + beta * ratio)\n",
    "    return np.percentile(dist, [prctile])[0]"
   ]
  },
  {
   "cell_type": "markdown",
   "metadata": {},
   "source": [
    "### project evaluation\n"
   ]
  },
  {
   "cell_type": "markdown",
   "metadata": {},
   "source": [
    "We can now use the above to evaluate some aspects of a biochar projects. If we\n",
    "assume a project reports an O:C ratio of 0.08, we can use the simple linear\n",
    "model above to we can compute a half-life. We use the 2.5th percentile of the\n",
    "posterior predictive distribution as a crude, highly conservative estimate,\n",
    "given that permanence is only weakly correlated with composition, and likely\n",
    "depends as much or more so on the decay environment, which is often unknown.\n"
   ]
  },
  {
   "cell_type": "code",
   "execution_count": null,
   "metadata": {},
   "outputs": [],
   "source": [
    "ratio = 0.08\n",
    "halflife = predict(ratio, 2.5)"
   ]
  },
  {
   "cell_type": "markdown",
   "metadata": {},
   "source": [
    "Still, given the decay kinetics assumed by our toy model, we can compute a decay\n",
    "constant from the half-life\n"
   ]
  },
  {
   "cell_type": "code",
   "execution_count": null,
   "metadata": {},
   "outputs": [],
   "source": [
    "k = np.log(2) / halflife"
   ]
  },
  {
   "cell_type": "markdown",
   "metadata": {},
   "source": [
    "We can now determine the duration after which a fixed percent of the biohar\n",
    "remains. For a target of 90% for example, we get the following number of years.\n"
   ]
  },
  {
   "cell_type": "code",
   "execution_count": null,
   "metadata": {},
   "outputs": [],
   "source": [
    "fraction = 0.90\n",
    "years = -np.log(fraction) / k"
   ]
  },
  {
   "cell_type": "markdown",
   "metadata": {},
   "source": [
    "We can summarize our parameters\n"
   ]
  },
  {
   "cell_type": "code",
   "execution_count": null,
   "metadata": {},
   "outputs": [],
   "source": [
    "print(\"summary\")\n",
    "print(\"-------\")\n",
    "print(\"half-life: \" + str(halflife) + \" years\")\n",
    "print(\"fraction: \" + str(fraction))\n",
    "print(\"k: \" + str(k))\n",
    "print(\"years: \" + str(years))"
   ]
  },
  {
   "cell_type": "markdown",
   "metadata": {},
   "source": [
    "And we can plot this on the decay curve from above, assuming a starting volume\n",
    "of 12 tC\n"
   ]
  },
  {
   "cell_type": "code",
   "execution_count": null,
   "metadata": {},
   "outputs": [],
   "source": [
    "t = np.arange(0, 20000)\n",
    "biochar = model(t, 12, k)\n",
    "plt.plot(t, biochar)\n",
    "plt.ylim([0, 20])\n",
    "plt.xlim([0, 2000])\n",
    "plt.vlines(years, 0, 20)\n",
    "plt.hlines(12 * 0.90, 0, 20000, color=c[\"secondary\"])"
   ]
  },
  {
   "cell_type": "markdown",
   "metadata": {},
   "source": [
    "In general, validating the volume and permanence for an actual biochar project\n",
    "requires knowing the composition (and thus recalcitrance), but perhaps more\n",
    "importantly, also requires knowing the conversion efficiency (the fraction of\n",
    "initial feedstock carbon retained in biochar after pyrolysis) and the decay rate\n",
    "of the feedstock. That said, simply by knowing the recalcitrance, and making\n",
    "some assumptions, we can approximate a permanence over which a fixed fraction of\n",
    "volume is likely to remain.\n"
   ]
  }
 ],
 "metadata": {
  "kernelspec": {
   "display_name": "Python 3",
   "language": "python",
   "name": "python3"
  },
  "language_info": {
   "codemirror_mode": {
    "name": "ipython",
    "version": 3
   },
   "file_extension": ".py",
   "mimetype": "text/x-python",
   "name": "python",
   "nbconvert_exporter": "python",
   "pygments_lexer": "ipython3",
   "version": "3.7.8"
  }
 },
 "nbformat": 4,
 "nbformat_minor": 4
}
