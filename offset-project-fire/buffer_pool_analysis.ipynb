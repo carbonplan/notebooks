{
 "cells": [
  {
   "cell_type": "markdown",
   "metadata": {},
   "source": [
    "<img width=\"50\" src=\"https://carbonplan-assets.s3.amazonaws.com/monogram/dark-small.png\" style=\"margin-left:0px;margin-top:20px\"/>\n",
    "\n",
    "# Buffer Pool Analysis\n",
    "\n",
    "_by Grayson Badgley, September 17, 2020_\n",
    "\n",
    "This notebook performs analysis of ...\n",
    "\n",
    "## Methodology\n",
    "\n",
    "...\n",
    "\n",
    "## References\n",
    "\n",
    "...\n",
    "\n",
    "- Data: https://ww3.arb.ca.gov/cc/capandtrade/offsets/issuance/arboc_issuance.xlsx"
   ]
  },
  {
   "cell_type": "code",
   "execution_count": null,
   "metadata": {},
   "outputs": [],
   "source": [
    "import numpy as np\n",
    "import pandas as pd\n",
    "import seaborn as sns\n",
    "import intake\n",
    "\n",
    "# open our data catalog\n",
    "cat = intake.open_catalog('./catalog.yaml')"
   ]
  },
  {
   "cell_type": "markdown",
   "metadata": {},
   "source": [
    "### Load data"
   ]
  },
  {
   "cell_type": "code",
   "execution_count": null,
   "metadata": {},
   "outputs": [],
   "source": [
    "df = cat.arboc_issuance.read()\n",
    "\n",
    "display(df.head())"
   ]
  },
  {
   "cell_type": "markdown",
   "metadata": {},
   "source": [
    "## Cleaning the data\n",
    "\n",
    "Looks like two of the the Forest projects are reforestation and have \"Forest Buffer Contributions\" of \"reforest defer\" -- they haven't been issued any credits so lets exclude them from the rest of the analysis.\n",
    "\n",
    "It also looks like one project has received zero credits -- let's just remove that to be conservative. \n",
    "\n",
    "Then we cut things down to just forests, because we want to understand those projects and their relationship to the *forest* buffer pool."
   ]
  },
  {
   "cell_type": "code",
   "execution_count": null,
   "metadata": {},
   "outputs": [],
   "source": [
    "df[df['Forest Buffer Account Contribution'].apply(lambda x : isinstance(x, str))]"
   ]
  },
  {
   "cell_type": "code",
   "execution_count": null,
   "metadata": {},
   "outputs": [],
   "source": [
    "df = df[~df['Forest Buffer Account Contribution'].apply(lambda x : isinstance(x, str))]\n",
    "df = df[df['ARB Offset Credits Issued'] > 0]\n",
    "forest_df = df[df['Project Type'] == 'Forest']"
   ]
  },
  {
   "cell_type": "markdown",
   "metadata": {},
   "source": [
    "Both EA and COP contriubte to buffer pool, we'll consider both"
   ]
  },
  {
   "cell_type": "code",
   "execution_count": null,
   "metadata": {},
   "outputs": [],
   "source": [
    "forest_df.groupby('Early Action/ Compliance')['Forest Buffer Account Contribution'].sum()"
   ]
  },
  {
   "cell_type": "markdown",
   "metadata": {},
   "source": [
    "There are 127 total forest projects that have ever been issued credits"
   ]
  },
  {
   "cell_type": "code",
   "execution_count": null,
   "metadata": {},
   "outputs": [],
   "source": [
    "n_projects = forest_df['OPR Project ID'].nunique()\n",
    "n_projects"
   ]
  },
  {
   "cell_type": "markdown",
   "metadata": {},
   "source": [
    "## ACR260/CAFR5214\n",
    "\n",
    "Has been issued credits three times, though it has applied for them four times. The ARB excel file notes that the reporting period starting 2016-09-27 was \n",
    "I confirmed that the reporting period start and end date match the Annual OPDRs from the ACR web portal: https://acr2.apx.com/mymodule/reg/TabDocuments.asp?r=111&ad=Prpt&act=update&type=PRO&aProj=pub&tablename=doc&id1=260."
   ]
  },
  {
   "cell_type": "code",
   "execution_count": null,
   "metadata": {},
   "outputs": [],
   "source": [
    "proj_id = 'ACR260'\n",
    "forest_df[forest_df['OPR Project ID'] == proj_id]"
   ]
  },
  {
   "cell_type": "markdown",
   "metadata": {},
   "source": [
    "## How big is this project?\n",
    "\n",
    "In the scheme of things, this is a pretty big project -- it's the 15th of 128 projects in the CARB issuance database. \n",
    "It's also the largest in Oregon."
   ]
  },
  {
   "cell_type": "code",
   "execution_count": null,
   "metadata": {},
   "outputs": [],
   "source": [
    "total_credits = forest_df['ARB Offset Credits Issued'].sum()\n",
    "per_proj_credits = forest_df.groupby('OPR Project ID')['ARB Offset Credits Issued'].sum()\n",
    "perc_credits = per_proj_credits/total_credits * 100\n",
    "\n",
    "proj_state_map = forest_df.groupby('OPR Project ID').State.max().to_dict() # max() makes 1:1 mapping of opr_id to state\n",
    "perc_credits = perc_credits.sort_values(ascending=False).to_frame()\n",
    "perc_credits['state'] = perc_credits.index.map(proj_state_map)\n",
    "perc_credits = perc_credits.rename(columns={'ARB Offset Credits Issued': \"Percent Forest ARB Offset Credits Issued\"})\n",
    "\n",
    "proj_loc = perc_credits.index.get_loc(proj_id)\n",
    "perc_credits[:proj_loc+1] # +1 to include ACR16, otherwise off by one"
   ]
  },
  {
   "cell_type": "code",
   "execution_count": null,
   "metadata": {},
   "outputs": [],
   "source": [
    "total_buffer_pool = forest_df['Forest Buffer Account Contribution'].sum()"
   ]
  },
  {
   "cell_type": "code",
   "execution_count": null,
   "metadata": {},
   "outputs": [],
   "source": [
    "total_buffer_pool"
   ]
  },
  {
   "cell_type": "code",
   "execution_count": null,
   "metadata": {},
   "outputs": [],
   "source": [
    "proj_credits = forest_df[forest_df['OPR Project ID'] == proj_id]['ARB Offset Credits Issued'].sum()\n",
    "proj_credits"
   ]
  },
  {
   "cell_type": "code",
   "execution_count": null,
   "metadata": {},
   "outputs": [],
   "source": [
    "proj_credits/total_buffer_pool"
   ]
  },
  {
   "cell_type": "code",
   "execution_count": null,
   "metadata": {},
   "outputs": [],
   "source": [
    "frac_buffer = 0.107\n",
    "frac_burned = 0.8\n",
    "prob_mortality = 0.25\n",
    "freq_burn = 0.50\n",
    "arr  = np.random.binomial(size=(1000,100), n=1, p=freq_burn) * frac_buffer * frac_burned * prob_mortality\n",
    "#ser[ser > 1] = 1"
   ]
  },
  {
   "cell_type": "code",
   "execution_count": null,
   "metadata": {},
   "outputs": [],
   "source": [
    "g = pd.DataFrame(arr.cumsum(axis=1)).T.plot(color='grey', alpha=0.2, legend=False)\n",
    "med_case = np.median(arr.cumsum(axis=1), axis=0)\n",
    "g.plot(np.arange(100), med_case, lw=5, c='k')\n",
    "sns.despine()"
   ]
  },
  {
   "cell_type": "code",
   "execution_count": null,
   "metadata": {},
   "outputs": [],
   "source": [
    "forest_df['buffer_contrib'] = forest_df['Forest Buffer Account Contribution']/forest_df['ARB Offset Credits Issued']"
   ]
  },
  {
   "cell_type": "code",
   "execution_count": null,
   "metadata": {},
   "outputs": [],
   "source": [
    "# for understanding fire contribution, lets get rid of ea, since have some funky high values\n",
    "cop_forest = forest_df[forest_df['Early Action/ Compliance'] == 'COP']"
   ]
  },
  {
   "cell_type": "code",
   "execution_count": null,
   "metadata": {},
   "outputs": [],
   "source": [
    "(((0.5 * 2 + 0.5*4)/100)/cop_forest['buffer_contrib'].astype(float)).median()"
   ]
  },
  {
   "cell_type": "code",
   "execution_count": null,
   "metadata": {},
   "outputs": [],
   "source": [
    "(0.04/cop_forest['buffer_contrib'].astype(float)).median()"
   ]
  },
  {
   "cell_type": "code",
   "execution_count": null,
   "metadata": {},
   "outputs": [],
   "source": []
  }
 ],
 "metadata": {
  "kernelspec": {
   "display_name": "Python 3",
   "language": "python",
   "name": "python3"
  },
  "language_info": {
   "codemirror_mode": {
    "name": "ipython",
    "version": 3
   },
   "file_extension": ".py",
   "mimetype": "text/x-python",
   "name": "python",
   "nbconvert_exporter": "python",
   "pygments_lexer": "ipython3",
   "version": "3.7.8"
  }
 },
 "nbformat": 4,
 "nbformat_minor": 4
}
