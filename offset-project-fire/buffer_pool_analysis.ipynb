{
 "cells": [
  {
   "cell_type": "markdown",
   "metadata": {},
   "source": [
    "<img width=\"50\" src=\"https://carbonplan-assets.s3.amazonaws.com/monogram/dark-small.png\" style=\"margin-left:0px;margin-top:20px\"/>\n",
    "\n",
    "# Buffer Pool Analysis\n",
    "\n",
    "_by Grayson Badgley, September 17, 2020_\n",
    "\n",
    "This notebook performs analysis of ...\n",
    "\n",
    "## Methodology\n",
    "\n",
    "...\n",
    "\n",
    "## References\n",
    "\n",
    "...\n",
    "\n",
    "- Data: https://ww3.arb.ca.gov/cc/capandtrade/offsets/issuance/arboc_issuance.xlsx"
   ]
  },
  {
   "cell_type": "code",
   "execution_count": 17,
   "metadata": {},
   "outputs": [],
   "source": [
    "import numpy as np\n",
    "import pandas as pd\n",
    "import seaborn as sns"
   ]
  },
  {
   "cell_type": "markdown",
   "metadata": {},
   "source": [
    "### Load data"
   ]
  },
  {
   "cell_type": "code",
   "execution_count": 5,
   "metadata": {},
   "outputs": [
    {
     "data": {
      "text/html": [
       "<div>\n",
       "<style scoped>\n",
       "    .dataframe tbody tr th:only-of-type {\n",
       "        vertical-align: middle;\n",
       "    }\n",
       "\n",
       "    .dataframe tbody tr th {\n",
       "        vertical-align: top;\n",
       "    }\n",
       "\n",
       "    .dataframe thead th {\n",
       "        text-align: right;\n",
       "    }\n",
       "</style>\n",
       "<table border=\"1\" class=\"dataframe\">\n",
       "  <thead>\n",
       "    <tr style=\"text-align: right;\">\n",
       "      <th></th>\n",
       "      <th>CARB Issuance ID</th>\n",
       "      <th>OPR Project ID</th>\n",
       "      <th>Project Type</th>\n",
       "      <th>Early Action/ Compliance</th>\n",
       "      <th>Reporting Period Start Date</th>\n",
       "      <th>Reporting Period End Date</th>\n",
       "      <th>Vintage</th>\n",
       "      <th>ARB Offset Credits Issued</th>\n",
       "      <th>Forest Buffer Account Contribution</th>\n",
       "      <th>Issuance Date</th>\n",
       "      <th>...</th>\n",
       "      <th>State</th>\n",
       "      <th>Provides DEBS</th>\n",
       "      <th>Section 95989(b) Documentation, if applicable</th>\n",
       "      <th>Project Documentation</th>\n",
       "      <th>Retired Voluntarily</th>\n",
       "      <th>Retired 1st Compliance Period (CA)</th>\n",
       "      <th>Retired 2nd Compliance Period (CA)</th>\n",
       "      <th>Retired 3rd Compliance Period (CA)</th>\n",
       "      <th>Retired for Compliance in Quebec</th>\n",
       "      <th>Comment</th>\n",
       "    </tr>\n",
       "  </thead>\n",
       "  <tbody>\n",
       "    <tr>\n",
       "      <th>0</th>\n",
       "      <td>CAOD5001-A</td>\n",
       "      <td>CAR992</td>\n",
       "      <td>ODS</td>\n",
       "      <td>COP</td>\n",
       "      <td>2013-01-24</td>\n",
       "      <td>2013-02-01</td>\n",
       "      <td>2013.0</td>\n",
       "      <td>107542</td>\n",
       "      <td>NaN</td>\n",
       "      <td>2013-10-22</td>\n",
       "      <td>...</td>\n",
       "      <td>AR</td>\n",
       "      <td>–</td>\n",
       "      <td>–</td>\n",
       "      <td>https://thereserve2.apx.com/mymodule/reg/prjVi...</td>\n",
       "      <td>0</td>\n",
       "      <td>107542</td>\n",
       "      <td>0</td>\n",
       "      <td>0</td>\n",
       "      <td>0</td>\n",
       "      <td>For the second verification (to reduce the inv...</td>\n",
       "    </tr>\n",
       "    <tr>\n",
       "      <th>1</th>\n",
       "      <td>CAOD5002-A</td>\n",
       "      <td>ACR170</td>\n",
       "      <td>ODS</td>\n",
       "      <td>COP</td>\n",
       "      <td>2012-03-28</td>\n",
       "      <td>2012-09-23</td>\n",
       "      <td>2012.0</td>\n",
       "      <td>306517</td>\n",
       "      <td>NaN</td>\n",
       "      <td>2013-09-23</td>\n",
       "      <td>...</td>\n",
       "      <td>AR</td>\n",
       "      <td>–</td>\n",
       "      <td>–</td>\n",
       "      <td>https://acr2.apx.com/mymodule/reg/prjView.asp?...</td>\n",
       "      <td>0</td>\n",
       "      <td>134808</td>\n",
       "      <td>171709</td>\n",
       "      <td>0</td>\n",
       "      <td>0</td>\n",
       "      <td>NaN</td>\n",
       "    </tr>\n",
       "    <tr>\n",
       "      <th>2</th>\n",
       "      <td>CAFR5003-A</td>\n",
       "      <td>CAR973</td>\n",
       "      <td>Forest</td>\n",
       "      <td>COP</td>\n",
       "      <td>2012-08-08</td>\n",
       "      <td>2013-06-23</td>\n",
       "      <td>2013.0</td>\n",
       "      <td>2163951</td>\n",
       "      <td>415479</td>\n",
       "      <td>2014-06-10</td>\n",
       "      <td>...</td>\n",
       "      <td>MI</td>\n",
       "      <td>–</td>\n",
       "      <td>–</td>\n",
       "      <td>https://thereserve2.apx.com/mymodule/reg/prjVi...</td>\n",
       "      <td>0</td>\n",
       "      <td>817980</td>\n",
       "      <td>802319</td>\n",
       "      <td>124214</td>\n",
       "      <td>0</td>\n",
       "      <td>On 9/12/2017, ARB retired 178,642 of 415,479 c...</td>\n",
       "    </tr>\n",
       "    <tr>\n",
       "      <th>3</th>\n",
       "      <td>CAFR5003-B</td>\n",
       "      <td>CAR973</td>\n",
       "      <td>Forest</td>\n",
       "      <td>COP</td>\n",
       "      <td>2013-06-24</td>\n",
       "      <td>2014-06-23</td>\n",
       "      <td>2014.0</td>\n",
       "      <td>147666</td>\n",
       "      <td>28352</td>\n",
       "      <td>2015-09-08</td>\n",
       "      <td>...</td>\n",
       "      <td>MI</td>\n",
       "      <td>–</td>\n",
       "      <td>–</td>\n",
       "      <td>https://thereserve2.apx.com/mymodule/reg/prjVi...</td>\n",
       "      <td>0</td>\n",
       "      <td>84000</td>\n",
       "      <td>31207</td>\n",
       "      <td>4107</td>\n",
       "      <td>0</td>\n",
       "      <td>NaN</td>\n",
       "    </tr>\n",
       "    <tr>\n",
       "      <th>4</th>\n",
       "      <td>CAFR5003-C</td>\n",
       "      <td>CAR973</td>\n",
       "      <td>Forest</td>\n",
       "      <td>COP</td>\n",
       "      <td>2014-06-24</td>\n",
       "      <td>2015-06-23</td>\n",
       "      <td>2015.0</td>\n",
       "      <td>349786</td>\n",
       "      <td>67159</td>\n",
       "      <td>2016-09-27</td>\n",
       "      <td>...</td>\n",
       "      <td>MI</td>\n",
       "      <td>–</td>\n",
       "      <td>–</td>\n",
       "      <td>https://thereserve2.apx.com/mymodule/reg/prjVi...</td>\n",
       "      <td>0</td>\n",
       "      <td>0</td>\n",
       "      <td>191314</td>\n",
       "      <td>0</td>\n",
       "      <td>91313</td>\n",
       "      <td>NaN</td>\n",
       "    </tr>\n",
       "  </tbody>\n",
       "</table>\n",
       "<p>5 rows × 26 columns</p>\n",
       "</div>"
      ],
      "text/plain": [
       "  CARB Issuance ID OPR Project ID Project Type Early Action/ Compliance  \\\n",
       "0       CAOD5001-A         CAR992          ODS                      COP   \n",
       "1       CAOD5002-A         ACR170          ODS                      COP   \n",
       "2       CAFR5003-A         CAR973       Forest                      COP   \n",
       "3       CAFR5003-B         CAR973       Forest                      COP   \n",
       "4       CAFR5003-C         CAR973       Forest                      COP   \n",
       "\n",
       "  Reporting Period Start Date Reporting Period End Date  Vintage  \\\n",
       "0                  2013-01-24                2013-02-01   2013.0   \n",
       "1                  2012-03-28                2012-09-23   2012.0   \n",
       "2                  2012-08-08                2013-06-23   2013.0   \n",
       "3                  2013-06-24                2014-06-23   2014.0   \n",
       "4                  2014-06-24                2015-06-23   2015.0   \n",
       "\n",
       "  ARB Offset Credits Issued Forest Buffer Account Contribution Issuance Date  \\\n",
       "0                    107542                                NaN    2013-10-22   \n",
       "1                    306517                                NaN    2013-09-23   \n",
       "2                   2163951                             415479    2014-06-10   \n",
       "3                    147666                              28352    2015-09-08   \n",
       "4                    349786                              67159    2016-09-27   \n",
       "\n",
       "   ... State Provides DEBS Section 95989(b) Documentation, if applicable  \\\n",
       "0  ...    AR             –                                             –   \n",
       "1  ...    AR             –                                             –   \n",
       "2  ...    MI             –                                             –   \n",
       "3  ...    MI             –                                             –   \n",
       "4  ...    MI             –                                             –   \n",
       "\n",
       "                               Project Documentation Retired Voluntarily  \\\n",
       "0  https://thereserve2.apx.com/mymodule/reg/prjVi...                   0   \n",
       "1  https://acr2.apx.com/mymodule/reg/prjView.asp?...                   0   \n",
       "2  https://thereserve2.apx.com/mymodule/reg/prjVi...                   0   \n",
       "3  https://thereserve2.apx.com/mymodule/reg/prjVi...                   0   \n",
       "4  https://thereserve2.apx.com/mymodule/reg/prjVi...                   0   \n",
       "\n",
       "  Retired 1st Compliance Period (CA) Retired 2nd Compliance Period (CA)  \\\n",
       "0                             107542                                  0   \n",
       "1                             134808                             171709   \n",
       "2                             817980                             802319   \n",
       "3                              84000                              31207   \n",
       "4                                  0                             191314   \n",
       "\n",
       "  Retired 3rd Compliance Period (CA) Retired for Compliance in Quebec  \\\n",
       "0                                  0                                0   \n",
       "1                                  0                                0   \n",
       "2                             124214                                0   \n",
       "3                               4107                                0   \n",
       "4                                  0                            91313   \n",
       "\n",
       "                                             Comment  \n",
       "0  For the second verification (to reduce the inv...  \n",
       "1                                                NaN  \n",
       "2  On 9/12/2017, ARB retired 178,642 of 415,479 c...  \n",
       "3                                                NaN  \n",
       "4                                                NaN  \n",
       "\n",
       "[5 rows x 26 columns]"
      ]
     },
     "metadata": {},
     "output_type": "display_data"
    }
   ],
   "source": [
    "df = pd.read_excel('https://carbonplan.blob.core.windows.net/carbonplan-articles/offset-project-fire/arboc_issuance.xlsx', sheet_name=3)\n",
    "display(df.head())"
   ]
  },
  {
   "cell_type": "markdown",
   "metadata": {},
   "source": [
    "## Cleaning the data\n",
    "\n",
    "Looks like two of the the Forest projects are reforestation and have \"Forest Buffer Contributions\" of \"reforest defer\" -- they haven't been issued any credits so lets exclude them from the rest of the analysis.\n",
    "\n",
    "It also looks like one project has received zero credits -- let's just remove that to be conservative. \n",
    "\n",
    "Then we cut things down to just forests, because we want to understand those projects and their relationship to the *forest* buffer pool."
   ]
  },
  {
   "cell_type": "code",
   "execution_count": 6,
   "metadata": {},
   "outputs": [
    {
     "data": {
      "text/html": [
       "<div>\n",
       "<style scoped>\n",
       "    .dataframe tbody tr th:only-of-type {\n",
       "        vertical-align: middle;\n",
       "    }\n",
       "\n",
       "    .dataframe tbody tr th {\n",
       "        vertical-align: top;\n",
       "    }\n",
       "\n",
       "    .dataframe thead th {\n",
       "        text-align: right;\n",
       "    }\n",
       "</style>\n",
       "<table border=\"1\" class=\"dataframe\">\n",
       "  <thead>\n",
       "    <tr style=\"text-align: right;\">\n",
       "      <th></th>\n",
       "      <th>CARB Issuance ID</th>\n",
       "      <th>OPR Project ID</th>\n",
       "      <th>Project Type</th>\n",
       "      <th>Early Action/ Compliance</th>\n",
       "      <th>Reporting Period Start Date</th>\n",
       "      <th>Reporting Period End Date</th>\n",
       "      <th>Vintage</th>\n",
       "      <th>ARB Offset Credits Issued</th>\n",
       "      <th>Forest Buffer Account Contribution</th>\n",
       "      <th>Issuance Date</th>\n",
       "      <th>...</th>\n",
       "      <th>State</th>\n",
       "      <th>Provides DEBS</th>\n",
       "      <th>Section 95989(b) Documentation, if applicable</th>\n",
       "      <th>Project Documentation</th>\n",
       "      <th>Retired Voluntarily</th>\n",
       "      <th>Retired 1st Compliance Period (CA)</th>\n",
       "      <th>Retired 2nd Compliance Period (CA)</th>\n",
       "      <th>Retired 3rd Compliance Period (CA)</th>\n",
       "      <th>Retired for Compliance in Quebec</th>\n",
       "      <th>Comment</th>\n",
       "    </tr>\n",
       "  </thead>\n",
       "  <tbody>\n",
       "    <tr>\n",
       "      <th>387</th>\n",
       "      <td>CAFR5165-(reforest defer)</td>\n",
       "      <td>CAR1165</td>\n",
       "      <td>Forest</td>\n",
       "      <td>COP</td>\n",
       "      <td>2015-12-31</td>\n",
       "      <td>2017-12-30</td>\n",
       "      <td>NaN</td>\n",
       "      <td>reforest defer</td>\n",
       "      <td>reforest defer</td>\n",
       "      <td>NaT</td>\n",
       "      <td>...</td>\n",
       "      <td>CA</td>\n",
       "      <td>DEBS</td>\n",
       "      <td>–</td>\n",
       "      <td>https://thereserve2.apx.com/mymodule/reg/prjVi...</td>\n",
       "      <td>0</td>\n",
       "      <td>0</td>\n",
       "      <td>0</td>\n",
       "      <td>0</td>\n",
       "      <td>0</td>\n",
       "      <td>CARB approved first full verification on 4/21/...</td>\n",
       "    </tr>\n",
       "    <tr>\n",
       "      <th>388</th>\n",
       "      <td>CAFR5167-(reforest defer)</td>\n",
       "      <td>CAR1167</td>\n",
       "      <td>Forest</td>\n",
       "      <td>COP</td>\n",
       "      <td>2015-12-31</td>\n",
       "      <td>2017-12-30</td>\n",
       "      <td>NaN</td>\n",
       "      <td>reforest defer</td>\n",
       "      <td>reforest defer</td>\n",
       "      <td>NaT</td>\n",
       "      <td>...</td>\n",
       "      <td>CA</td>\n",
       "      <td>DEBS</td>\n",
       "      <td>–</td>\n",
       "      <td>https://thereserve2.apx.com/mymodule/reg/prjVi...</td>\n",
       "      <td>0</td>\n",
       "      <td>0</td>\n",
       "      <td>0</td>\n",
       "      <td>0</td>\n",
       "      <td>0</td>\n",
       "      <td>CARB approved first full verification on 4/21/...</td>\n",
       "    </tr>\n",
       "  </tbody>\n",
       "</table>\n",
       "<p>2 rows × 26 columns</p>\n",
       "</div>"
      ],
      "text/plain": [
       "              CARB Issuance ID OPR Project ID Project Type  \\\n",
       "387  CAFR5165-(reforest defer)        CAR1165       Forest   \n",
       "388  CAFR5167-(reforest defer)        CAR1167       Forest   \n",
       "\n",
       "    Early Action/ Compliance Reporting Period Start Date  \\\n",
       "387                      COP                  2015-12-31   \n",
       "388                      COP                  2015-12-31   \n",
       "\n",
       "    Reporting Period End Date  Vintage ARB Offset Credits Issued  \\\n",
       "387                2017-12-30      NaN            reforest defer   \n",
       "388                2017-12-30      NaN            reforest defer   \n",
       "\n",
       "    Forest Buffer Account Contribution Issuance Date  ... State Provides DEBS  \\\n",
       "387                     reforest defer           NaT  ...    CA          DEBS   \n",
       "388                     reforest defer           NaT  ...    CA          DEBS   \n",
       "\n",
       "    Section 95989(b) Documentation, if applicable  \\\n",
       "387                                             –   \n",
       "388                                             –   \n",
       "\n",
       "                                 Project Documentation Retired Voluntarily  \\\n",
       "387  https://thereserve2.apx.com/mymodule/reg/prjVi...                   0   \n",
       "388  https://thereserve2.apx.com/mymodule/reg/prjVi...                   0   \n",
       "\n",
       "    Retired 1st Compliance Period (CA) Retired 2nd Compliance Period (CA)  \\\n",
       "387                                  0                                  0   \n",
       "388                                  0                                  0   \n",
       "\n",
       "    Retired 3rd Compliance Period (CA) Retired for Compliance in Quebec  \\\n",
       "387                                  0                                0   \n",
       "388                                  0                                0   \n",
       "\n",
       "                                               Comment  \n",
       "387  CARB approved first full verification on 4/21/...  \n",
       "388  CARB approved first full verification on 4/21/...  \n",
       "\n",
       "[2 rows x 26 columns]"
      ]
     },
     "execution_count": 6,
     "metadata": {},
     "output_type": "execute_result"
    }
   ],
   "source": [
    "df[df['Forest Buffer Account Contribution'].apply(lambda x : isinstance(x, str))]"
   ]
  },
  {
   "cell_type": "code",
   "execution_count": 7,
   "metadata": {},
   "outputs": [],
   "source": [
    "df = df[~df['Forest Buffer Account Contribution'].apply(lambda x : isinstance(x, str))]\n",
    "df = df[df['ARB Offset Credits Issued'] > 0]\n",
    "forest_df = df[df['Project Type'] == 'Forest']"
   ]
  },
  {
   "cell_type": "markdown",
   "metadata": {},
   "source": [
    "Both EA and COP contriubte to buffer pool, we'll consider both"
   ]
  },
  {
   "cell_type": "code",
   "execution_count": 8,
   "metadata": {},
   "outputs": [
    {
     "data": {
      "text/plain": [
       "Early Action/ Compliance\n",
       "COP    23204213\n",
       "EA      2581159\n",
       "Name: Forest Buffer Account Contribution, dtype: int64"
      ]
     },
     "execution_count": 8,
     "metadata": {},
     "output_type": "execute_result"
    }
   ],
   "source": [
    "forest_df.groupby('Early Action/ Compliance')['Forest Buffer Account Contribution'].sum()"
   ]
  },
  {
   "cell_type": "markdown",
   "metadata": {},
   "source": [
    "There are 127 total forest projects that have ever been issued credits"
   ]
  },
  {
   "cell_type": "code",
   "execution_count": 9,
   "metadata": {},
   "outputs": [
    {
     "data": {
      "text/plain": [
       "127"
      ]
     },
     "execution_count": 9,
     "metadata": {},
     "output_type": "execute_result"
    }
   ],
   "source": [
    "n_projects = forest_df['OPR Project ID'].nunique()\n",
    "n_projects"
   ]
  },
  {
   "cell_type": "markdown",
   "metadata": {},
   "source": [
    "## ACR260/CAFR5214\n",
    "\n",
    "Has been issued credits three times, though it has applied for them four times. The ARB excel file notes that the reporting period starting 2016-09-27 was \n",
    "I confirmed that the reporting period start and end date match the Annual OPDRs from the ACR web portal: https://acr2.apx.com/mymodule/reg/TabDocuments.asp?r=111&ad=Prpt&act=update&type=PRO&aProj=pub&tablename=doc&id1=260."
   ]
  },
  {
   "cell_type": "code",
   "execution_count": 10,
   "metadata": {},
   "outputs": [
    {
     "data": {
      "text/html": [
       "<div>\n",
       "<style scoped>\n",
       "    .dataframe tbody tr th:only-of-type {\n",
       "        vertical-align: middle;\n",
       "    }\n",
       "\n",
       "    .dataframe tbody tr th {\n",
       "        vertical-align: top;\n",
       "    }\n",
       "\n",
       "    .dataframe thead th {\n",
       "        text-align: right;\n",
       "    }\n",
       "</style>\n",
       "<table border=\"1\" class=\"dataframe\">\n",
       "  <thead>\n",
       "    <tr style=\"text-align: right;\">\n",
       "      <th></th>\n",
       "      <th>CARB Issuance ID</th>\n",
       "      <th>OPR Project ID</th>\n",
       "      <th>Project Type</th>\n",
       "      <th>Early Action/ Compliance</th>\n",
       "      <th>Reporting Period Start Date</th>\n",
       "      <th>Reporting Period End Date</th>\n",
       "      <th>Vintage</th>\n",
       "      <th>ARB Offset Credits Issued</th>\n",
       "      <th>Forest Buffer Account Contribution</th>\n",
       "      <th>Issuance Date</th>\n",
       "      <th>...</th>\n",
       "      <th>State</th>\n",
       "      <th>Provides DEBS</th>\n",
       "      <th>Section 95989(b) Documentation, if applicable</th>\n",
       "      <th>Project Documentation</th>\n",
       "      <th>Retired Voluntarily</th>\n",
       "      <th>Retired 1st Compliance Period (CA)</th>\n",
       "      <th>Retired 2nd Compliance Period (CA)</th>\n",
       "      <th>Retired 3rd Compliance Period (CA)</th>\n",
       "      <th>Retired for Compliance in Quebec</th>\n",
       "      <th>Comment</th>\n",
       "    </tr>\n",
       "  </thead>\n",
       "  <tbody>\n",
       "    <tr>\n",
       "      <th>481</th>\n",
       "      <td>CAFR5214-A</td>\n",
       "      <td>ACR260</td>\n",
       "      <td>Forest</td>\n",
       "      <td>COP</td>\n",
       "      <td>2014-12-05</td>\n",
       "      <td>2015-09-27</td>\n",
       "      <td>2015.0</td>\n",
       "      <td>2154371</td>\n",
       "      <td>341159</td>\n",
       "      <td>2018-08-07</td>\n",
       "      <td>...</td>\n",
       "      <td>OR</td>\n",
       "      <td>–</td>\n",
       "      <td>–</td>\n",
       "      <td>https://acr2.apx.com/mymodule/reg/prjView.asp?...</td>\n",
       "      <td>0</td>\n",
       "      <td>0</td>\n",
       "      <td>0</td>\n",
       "      <td>0</td>\n",
       "      <td>0</td>\n",
       "      <td>NaN</td>\n",
       "    </tr>\n",
       "    <tr>\n",
       "      <th>482</th>\n",
       "      <td>CAFR5214-B</td>\n",
       "      <td>ACR260</td>\n",
       "      <td>Forest</td>\n",
       "      <td>COP</td>\n",
       "      <td>2015-09-28</td>\n",
       "      <td>2016-09-27</td>\n",
       "      <td>2016.0</td>\n",
       "      <td>390155</td>\n",
       "      <td>61784</td>\n",
       "      <td>2020-01-14</td>\n",
       "      <td>...</td>\n",
       "      <td>OR</td>\n",
       "      <td>–</td>\n",
       "      <td>–</td>\n",
       "      <td>https://acr2.apx.com/mymodule/reg/prjView.asp?...</td>\n",
       "      <td>0</td>\n",
       "      <td>0</td>\n",
       "      <td>0</td>\n",
       "      <td>0</td>\n",
       "      <td>0</td>\n",
       "      <td>NaN</td>\n",
       "    </tr>\n",
       "    <tr>\n",
       "      <th>484</th>\n",
       "      <td>CAFR5214-C</td>\n",
       "      <td>ACR260</td>\n",
       "      <td>Forest</td>\n",
       "      <td>COP</td>\n",
       "      <td>2017-09-28</td>\n",
       "      <td>2018-09-27</td>\n",
       "      <td>2018.0</td>\n",
       "      <td>131957</td>\n",
       "      <td>20896</td>\n",
       "      <td>2020-01-14</td>\n",
       "      <td>...</td>\n",
       "      <td>OR</td>\n",
       "      <td>–</td>\n",
       "      <td>–</td>\n",
       "      <td>https://acr2.apx.com/mymodule/reg/prjView.asp?...</td>\n",
       "      <td>0</td>\n",
       "      <td>0</td>\n",
       "      <td>0</td>\n",
       "      <td>0</td>\n",
       "      <td>0</td>\n",
       "      <td>NaN</td>\n",
       "    </tr>\n",
       "  </tbody>\n",
       "</table>\n",
       "<p>3 rows × 26 columns</p>\n",
       "</div>"
      ],
      "text/plain": [
       "    CARB Issuance ID OPR Project ID Project Type Early Action/ Compliance  \\\n",
       "481       CAFR5214-A         ACR260       Forest                      COP   \n",
       "482       CAFR5214-B         ACR260       Forest                      COP   \n",
       "484       CAFR5214-C         ACR260       Forest                      COP   \n",
       "\n",
       "    Reporting Period Start Date Reporting Period End Date  Vintage  \\\n",
       "481                  2014-12-05                2015-09-27   2015.0   \n",
       "482                  2015-09-28                2016-09-27   2016.0   \n",
       "484                  2017-09-28                2018-09-27   2018.0   \n",
       "\n",
       "    ARB Offset Credits Issued Forest Buffer Account Contribution  \\\n",
       "481                   2154371                             341159   \n",
       "482                    390155                              61784   \n",
       "484                    131957                              20896   \n",
       "\n",
       "    Issuance Date  ... State Provides DEBS  \\\n",
       "481    2018-08-07  ...    OR             –   \n",
       "482    2020-01-14  ...    OR             –   \n",
       "484    2020-01-14  ...    OR             –   \n",
       "\n",
       "    Section 95989(b) Documentation, if applicable  \\\n",
       "481                                             –   \n",
       "482                                             –   \n",
       "484                                             –   \n",
       "\n",
       "                                 Project Documentation Retired Voluntarily  \\\n",
       "481  https://acr2.apx.com/mymodule/reg/prjView.asp?...                   0   \n",
       "482  https://acr2.apx.com/mymodule/reg/prjView.asp?...                   0   \n",
       "484  https://acr2.apx.com/mymodule/reg/prjView.asp?...                   0   \n",
       "\n",
       "    Retired 1st Compliance Period (CA) Retired 2nd Compliance Period (CA)  \\\n",
       "481                                  0                                  0   \n",
       "482                                  0                                  0   \n",
       "484                                  0                                  0   \n",
       "\n",
       "    Retired 3rd Compliance Period (CA) Retired for Compliance in Quebec  \\\n",
       "481                                  0                                0   \n",
       "482                                  0                                0   \n",
       "484                                  0                                0   \n",
       "\n",
       "    Comment  \n",
       "481     NaN  \n",
       "482     NaN  \n",
       "484     NaN  \n",
       "\n",
       "[3 rows x 26 columns]"
      ]
     },
     "execution_count": 10,
     "metadata": {},
     "output_type": "execute_result"
    }
   ],
   "source": [
    "proj_id = 'ACR260'\n",
    "forest_df[forest_df['OPR Project ID'] == proj_id]"
   ]
  },
  {
   "cell_type": "markdown",
   "metadata": {},
   "source": [
    "## How big is this project?\n",
    "\n",
    "In the scheme of things, this is a pretty big project -- it's the 15th of 128 projects in the CARB issuance database. \n",
    "It's also the largest in Oregon."
   ]
  },
  {
   "cell_type": "code",
   "execution_count": 11,
   "metadata": {},
   "outputs": [
    {
     "data": {
      "text/html": [
       "<div>\n",
       "<style scoped>\n",
       "    .dataframe tbody tr th:only-of-type {\n",
       "        vertical-align: middle;\n",
       "    }\n",
       "\n",
       "    .dataframe tbody tr th {\n",
       "        vertical-align: top;\n",
       "    }\n",
       "\n",
       "    .dataframe thead th {\n",
       "        text-align: right;\n",
       "    }\n",
       "</style>\n",
       "<table border=\"1\" class=\"dataframe\">\n",
       "  <thead>\n",
       "    <tr style=\"text-align: right;\">\n",
       "      <th></th>\n",
       "      <th>Percent Forest ARB Offset Credits Issued</th>\n",
       "      <th>state</th>\n",
       "    </tr>\n",
       "    <tr>\n",
       "      <th>OPR Project ID</th>\n",
       "      <th></th>\n",
       "      <th></th>\n",
       "    </tr>\n",
       "  </thead>\n",
       "  <tbody>\n",
       "    <tr>\n",
       "      <th>ACR360</th>\n",
       "      <td>9.902237</td>\n",
       "      <td>AK</td>\n",
       "    </tr>\n",
       "    <tr>\n",
       "      <th>ACR255</th>\n",
       "      <td>9.199629</td>\n",
       "      <td>WA</td>\n",
       "    </tr>\n",
       "    <tr>\n",
       "      <th>ACR324</th>\n",
       "      <td>7.562175</td>\n",
       "      <td>AK</td>\n",
       "    </tr>\n",
       "    <tr>\n",
       "      <th>CAR1264</th>\n",
       "      <td>4.577290</td>\n",
       "      <td>AK</td>\n",
       "    </tr>\n",
       "    <tr>\n",
       "      <th>ACR303</th>\n",
       "      <td>3.847541</td>\n",
       "      <td>AZ</td>\n",
       "    </tr>\n",
       "    <tr>\n",
       "      <th>ACR211</th>\n",
       "      <td>3.147577</td>\n",
       "      <td>AZ</td>\n",
       "    </tr>\n",
       "    <tr>\n",
       "      <th>ACR249</th>\n",
       "      <td>3.053140</td>\n",
       "      <td>WV</td>\n",
       "    </tr>\n",
       "    <tr>\n",
       "      <th>CAR1183</th>\n",
       "      <td>2.830198</td>\n",
       "      <td>NM</td>\n",
       "    </tr>\n",
       "    <tr>\n",
       "      <th>CAR1175</th>\n",
       "      <td>2.801494</td>\n",
       "      <td>ME</td>\n",
       "    </tr>\n",
       "    <tr>\n",
       "      <th>CAR730</th>\n",
       "      <td>2.510926</td>\n",
       "      <td>CA</td>\n",
       "    </tr>\n",
       "    <tr>\n",
       "      <th>CAR1215</th>\n",
       "      <td>2.214124</td>\n",
       "      <td>TN</td>\n",
       "    </tr>\n",
       "    <tr>\n",
       "      <th>ACR248</th>\n",
       "      <td>2.172275</td>\n",
       "      <td>VA</td>\n",
       "    </tr>\n",
       "    <tr>\n",
       "      <th>CAR1205</th>\n",
       "      <td>2.002418</td>\n",
       "      <td>WV</td>\n",
       "    </tr>\n",
       "    <tr>\n",
       "      <th>CAR973</th>\n",
       "      <td>1.994066</td>\n",
       "      <td>MI</td>\n",
       "    </tr>\n",
       "    <tr>\n",
       "      <th>ACR260</th>\n",
       "      <td>1.714933</td>\n",
       "      <td>OR</td>\n",
       "    </tr>\n",
       "  </tbody>\n",
       "</table>\n",
       "</div>"
      ],
      "text/plain": [
       "                Percent Forest ARB Offset Credits Issued state\n",
       "OPR Project ID                                                \n",
       "ACR360                                          9.902237    AK\n",
       "ACR255                                          9.199629    WA\n",
       "ACR324                                          7.562175    AK\n",
       "CAR1264                                         4.577290    AK\n",
       "ACR303                                          3.847541    AZ\n",
       "ACR211                                          3.147577    AZ\n",
       "ACR249                                          3.053140    WV\n",
       "CAR1183                                         2.830198    NM\n",
       "CAR1175                                         2.801494    ME\n",
       "CAR730                                          2.510926    CA\n",
       "CAR1215                                         2.214124    TN\n",
       "ACR248                                          2.172275    VA\n",
       "CAR1205                                         2.002418    WV\n",
       "CAR973                                          1.994066    MI\n",
       "ACR260                                          1.714933    OR"
      ]
     },
     "execution_count": 11,
     "metadata": {},
     "output_type": "execute_result"
    }
   ],
   "source": [
    "total_credits = forest_df['ARB Offset Credits Issued'].sum()\n",
    "per_proj_credits = forest_df.groupby('OPR Project ID')['ARB Offset Credits Issued'].sum()\n",
    "perc_credits = per_proj_credits/total_credits * 100\n",
    "\n",
    "proj_state_map = forest_df.groupby('OPR Project ID').State.max().to_dict() # max() makes 1:1 mapping of opr_id to state\n",
    "perc_credits = perc_credits.sort_values(ascending=False).to_frame()\n",
    "perc_credits['state'] = perc_credits.index.map(proj_state_map)\n",
    "perc_credits = perc_credits.rename(columns={'ARB Offset Credits Issued': \"Percent Forest ARB Offset Credits Issued\"})\n",
    "\n",
    "proj_loc = perc_credits.index.get_loc(proj_id)\n",
    "perc_credits[:proj_loc+1] # +1 to include ACR16, otherwise off by one"
   ]
  },
  {
   "cell_type": "code",
   "execution_count": 12,
   "metadata": {},
   "outputs": [],
   "source": [
    "total_buffer_pool = forest_df['Forest Buffer Account Contribution'].sum()"
   ]
  },
  {
   "cell_type": "code",
   "execution_count": 13,
   "metadata": {},
   "outputs": [
    {
     "data": {
      "text/plain": [
       "25785372"
      ]
     },
     "execution_count": 13,
     "metadata": {},
     "output_type": "execute_result"
    }
   ],
   "source": [
    "total_buffer_pool"
   ]
  },
  {
   "cell_type": "code",
   "execution_count": 14,
   "metadata": {},
   "outputs": [
    {
     "data": {
      "text/plain": [
       "2676483"
      ]
     },
     "execution_count": 14,
     "metadata": {},
     "output_type": "execute_result"
    }
   ],
   "source": [
    "proj_credits = forest_df[forest_df['OPR Project ID'] == proj_id]['ARB Offset Credits Issued'].sum()\n",
    "proj_credits"
   ]
  },
  {
   "cell_type": "code",
   "execution_count": 15,
   "metadata": {},
   "outputs": [
    {
     "data": {
      "text/plain": [
       "0.10379850249978942"
      ]
     },
     "execution_count": 15,
     "metadata": {},
     "output_type": "execute_result"
    }
   ],
   "source": [
    "proj_credits/total_buffer_pool"
   ]
  },
  {
   "cell_type": "code",
   "execution_count": 18,
   "metadata": {},
   "outputs": [],
   "source": [
    "frac_buffer = 0.107\n",
    "frac_burned = 0.8\n",
    "prob_mortality = 0.25\n",
    "freq_burn = 0.50\n",
    "arr  = np.random.binomial(size=(1000,100), n=1, p=freq_burn) * frac_buffer * frac_burned * prob_mortality\n",
    "#ser[ser > 1] = 1"
   ]
  },
  {
   "cell_type": "code",
   "execution_count": 19,
   "metadata": {},
   "outputs": [
    {
     "data": {
      "image/png": "[encoded data removed]",
      "text/plain": [
       "<Figure size 432x288 with 1 Axes>"
      ]
     },
     "metadata": {
      "needs_background": "light"
     },
     "output_type": "display_data"
    }
   ],
   "source": [
    "g = pd.DataFrame(arr.cumsum(axis=1)).T.plot(color='grey', alpha=0.2, legend=False)\n",
    "med_case = np.median(arr.cumsum(axis=1), axis=0)\n",
    "g.plot(np.arange(100), med_case, lw=5, c='k')\n",
    "sns.despine()"
   ]
  },
  {
   "cell_type": "code",
   "execution_count": 22,
   "metadata": {},
   "outputs": [
    {
     "name": "stderr",
     "output_type": "stream",
     "text": [
      "/srv/conda/envs/notebook/lib/python3.7/site-packages/ipykernel_launcher.py:1: SettingWithCopyWarning: \n",
      "A value is trying to be set on a copy of a slice from a DataFrame.\n",
      "Try using .loc[row_indexer,col_indexer] = value instead\n",
      "\n",
      "See the caveats in the documentation: https://pandas.pydata.org/pandas-docs/stable/user_guide/indexing.html#returning-a-view-versus-a-copy\n",
      "  \"\"\"Entry point for launching an IPython kernel.\n"
     ]
    }
   ],
   "source": [
    "forest_df['buffer_contrib'] = forest_df['Forest Buffer Account Contribution']/forest_df['ARB Offset Credits Issued']"
   ]
  },
  {
   "cell_type": "code",
   "execution_count": 225,
   "metadata": {},
   "outputs": [],
   "source": [
    "# for understanding fire contribution, lets get rid of ea, since have some funky high values\n",
    "cop_forest = forest_df[forest_df['Early Action/ Compliance'] == 'COP']"
   ]
  },
  {
   "cell_type": "code",
   "execution_count": 226,
   "metadata": {},
   "outputs": [
    {
     "data": {
      "text/plain": [
       "0.15624930320312166"
      ]
     },
     "execution_count": 226,
     "metadata": {},
     "output_type": "execute_result"
    }
   ],
   "source": [
    "(((0.5 * 2 + 0.5*4)/100)/cop_forest['buffer_contrib'].astype(float)).median()"
   ]
  },
  {
   "cell_type": "code",
   "execution_count": 227,
   "metadata": {},
   "outputs": [
    {
     "data": {
      "text/plain": [
       "0.20833240427082889"
      ]
     },
     "execution_count": 227,
     "metadata": {},
     "output_type": "execute_result"
    }
   ],
   "source": [
    "(0.04/cop_forest['buffer_contrib'].astype(float)).median()"
   ]
  }
 ],
 "metadata": {
  "kernelspec": {
   "display_name": "Python 3",
   "language": "python",
   "name": "python3"
  },
  "language_info": {
   "codemirror_mode": {
    "name": "ipython",
    "version": 3
   },
   "file_extension": ".py",
   "mimetype": "text/x-python",
   "name": "python",
   "nbconvert_exporter": "python",
   "pygments_lexer": "ipython3",
   "version": "3.7.8"
  }
 },
 "nbformat": 4,
 "nbformat_minor": 4
}
