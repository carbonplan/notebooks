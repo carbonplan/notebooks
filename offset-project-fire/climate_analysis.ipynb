{
 "cells": [
  {
   "cell_type": "markdown",
   "metadata": {},
   "source": [
    "<img width=\"50\" src=\"https://carbonplan-assets.s3.amazonaws.com/monogram/dark-small.png\" style=\"margin-left:0px;margin-top:20px\"/>\n",
    "\n",
    "# Lionshead Fire Climate Data Analysis\n",
    "\n",
    "_by Joe Hamman (CarbonPlan), September 17, 2020_\n",
    "\n",
    "This notebook performs a brief analysis of the climatic conditions leading up to\n",
    "the Lionshead Fire. Below we show trends in summer temperature, 1000-hr dead\n",
    "fuel moisture, and burning index for the region of the fire.\n",
    "\n",
    "## Methodology\n",
    "\n",
    "For the purpose of this analysis, we have simply extracted a daily timeseries of\n",
    "climate variables from the GridMET dataset at the point nearest the centroid of\n",
    "the fire. We aggregate these to seasonal average and plot the trends for only\n",
    "the summer season.\n",
    "\n",
    "## References\n",
    "\n",
    "- GridMET dataset. Available on-line\n",
    "  [http://www.climatologylab.org/gridmet.html].\n",
    "- Abatzoglou, J. T. (2013), Development of gridded surface meteorological data\n",
    "  for ecological applications and modelling. Int. J. Climatol., 33: 121–131.\n"
   ]
  },
  {
   "cell_type": "code",
   "execution_count": null,
   "metadata": {},
   "outputs": [],
   "source": [
    "import warnings\n",
    "import xarray as xr\n",
    "import matplotlib.pyplot as plt\n",
    "from carbonplan.styles import colors\n",
    "import seaborn as sns\n",
    "\n",
    "# gridmet's opendap server is issuing a bunch of warnings\n",
    "warnings.filterwarnings(\"ignore\")\n",
    "\n",
    "# plot styles\n",
    "c = colors(mode=\"light\")"
   ]
  },
  {
   "cell_type": "markdown",
   "metadata": {},
   "source": [
    "### Load the GridMET dataset\n"
   ]
  },
  {
   "cell_type": "code",
   "execution_count": null,
   "metadata": {},
   "outputs": [],
   "source": [
    "def load_gridmet(var):\n",
    "    \"\"\"helper function to load data from opendap server by year/var\"\"\"\n",
    "\n",
    "    ds_list = []\n",
    "\n",
    "    for year in range(1979, 2021):\n",
    "        url = f\"http://thredds.northwestknowledge.net:8080/thredds/dodsC/MET/{var}/{var}_{year}.nc\"\n",
    "        ds = (\n",
    "            xr.open_dataset(url, engine=\"pydap\")\n",
    "            .sel(lon=-121.2683, lat=44.7603, method=\"nearest\")\n",
    "            .load()\n",
    "        )\n",
    "        if \"day\" in ds.coords:\n",
    "            ds = ds.rename({\"day\": \"time\"})\n",
    "\n",
    "        ds_list.append(ds)\n",
    "\n",
    "    return xr.concat(ds_list, dim=\"time\")\n",
    "\n",
    "\n",
    "temp = []\n",
    "for var in [\"fm1000\", \"bi\", \"tmmx\", \"tmmn\"]:\n",
    "    ds = load_gridmet(var)\n",
    "    if \"air_temperature\" in ds:\n",
    "        ds = ds.rename({\"air_temperature\": var})\n",
    "    temp.append(ds)\n",
    "\n",
    "ds = xr.merge(temp)\n",
    "\n",
    "ds[\"tmean\"] = (ds[\"tmmx\"] + ds[\"tmmn\"]) / 2\n",
    "\n",
    "display(ds)"
   ]
  },
  {
   "cell_type": "markdown",
   "metadata": {},
   "source": [
    "### Plot trends in climate variables\n"
   ]
  },
  {
   "cell_type": "code",
   "execution_count": null,
   "metadata": {},
   "outputs": [],
   "source": [
    "jja = ds[\"time.season\"] == \"JJA\"\n",
    "\n",
    "for var in [\"dead_fuel_moisture_1000hr\", \"burning_index_g\", \"tmean\"]:\n",
    "    plt.figure()\n",
    "    data = ds[var].where(jja).resample(time=\"AS\").mean()\n",
    "    sns.regplot(\n",
    "        x=data[\"time.year\"].values,\n",
    "        y=data.values,\n",
    "        robust=True,\n",
    "        scatter=False,\n",
    "        color=c[\"secondary\"],\n",
    "    )\n",
    "    sns.lineplot(x=data[\"time.year\"].values, y=data.values, color=c[\"primary\"])\n",
    "    plt.title(\"jja \" + var)"
   ]
  }
 ],
 "metadata": {
  "kernelspec": {
   "display_name": "Python 3",
   "language": "python",
   "name": "python3"
  },
  "language_info": {
   "codemirror_mode": {
    "name": "ipython",
    "version": 3
   },
   "file_extension": ".py",
   "mimetype": "text/x-python",
   "name": "python",
   "nbconvert_exporter": "python",
   "pygments_lexer": "ipython3",
   "version": "3.7.8"
  }
 },
 "nbformat": 4,
 "nbformat_minor": 4
}
