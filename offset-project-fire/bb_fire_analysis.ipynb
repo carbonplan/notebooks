{
 "cells": [
  {
   "cell_type": "markdown",
   "metadata": {},
   "source": [
    "<img width=\"50\" src=\"https://carbonplan-assets.s3.amazonaws.com/monogram/dark-small.png\" style=\"margin-left:0px;margin-top:20px\"/>\n",
    "\n",
    "# Buffer Pool Analysis\n",
    "\n",
    "_by Grayson Badgley, September 17, 2020_\n",
    "\n",
    "This notebook performs analysis of tree mortality in the 2003 B&B fire using the [USDA Forest Service B&B Fire Recovery Project Record of Decision document](https://scholarsbank.uoregon.edu/xmlui/bitstream/handle/1794/7103/B%26B_Fire_Recovery_Project_ROD.pdf?sequence=1).\n",
    "\n",
    "## Methodology\n",
    "\n",
    "We'll calculate weighted averages by burn severity to determine guage a reasonable estimate of tree mortality for the 2020 Lionshead Fire.\n",
    "\n",
    "## References\n",
    "\n",
    "- Table ROD-2. Available online\n",
    "  [https://scholarsbank.uoregon.edu/xmlui/bitstream/handle/1794/7103/B%26B_Fire_Recovery_Project_ROD.pdf?sequence=].\n",
    "\n"
   ]
  },
  {
   "cell_type": "code",
   "execution_count": 1,
   "metadata": {},
   "outputs": [],
   "source": [
    "from carbonplan.styles import colors\n",
    "c = colors(\"light\")"
   ]
  },
  {
   "cell_type": "markdown",
   "metadata": {},
   "source": [
    "### Mortality Assumptions\n",
    "Table ROD-2 breaks mortality into three classes: High Mortality, Mixed Mortality, and Low Mortality.\n",
    "\n",
    "Page 26 of the ROD states that in cases of high severity fire, 75-100 percent of trees were killed by fire. \n",
    "We'll assume mixed mortality means anything between 10 and 74.9 percent mortality.\n",
    "Finally, we'll assign a 10 percent probability of death to the low mortality condition \n"
   ]
  },
  {
   "cell_type": "code",
   "execution_count": 10,
   "metadata": {},
   "outputs": [
    {
     "name": "stdout",
     "output_type": "stream",
     "text": [
      "Mort. High: 87.50%\n",
      "Mort. Mixed: 42.45%\n",
      "Mort. Low: 10.00%\n"
     ]
    }
   ],
   "source": [
    "high_mortality = (0.75+1)/2 * 100\n",
    "mixed_mortality = (0.749+0.1)/2 * 100\n",
    "low_mortality = 0.1 * 100\n",
    "print(\"Mort. High: %.2f%%\" % high_mortality)\n",
    "print(\"Mort. Mixed: %.2f%%\" % mixed_mortality)\n",
    "print(\"Mort. Low: %.2f%%\" % low_mortality)"
   ]
  },
  {
   "cell_type": "markdown",
   "metadata": {},
   "source": [
    "## Table ROD-2\n",
    "Table ROD-2 summarizes the distribution of high, mixed, and low mortality across plant association groups. If we assume the Lionshead Fire has an indentical distribution of land cover types and burn serverity, that means about 40 percent of the burned area will experience high mortality, 20 percent will experience mixed mortality, and 10 percent will experience low mortality"
   ]
  },
  {
   "cell_type": "code",
   "execution_count": 11,
   "metadata": {},
   "outputs": [
    {
     "name": "stdout",
     "output_type": "stream",
     "text": [
      "Area High: 40.00%\n",
      "Area Mixed: 20.00%\n",
      "Area Low: 40.00%\n"
     ]
    }
   ],
   "source": [
    "area_high = 0.4 * 100\n",
    "area_mixed = 0.2 * 100\n",
    "area_low = 0.4 * 100\n",
    "print(\"Area High: %.2f%%\" % area_high)\n",
    "print(\"Area Mixed: %.2f%%\" % area_mixed)\n",
    "print(\"Area Low: %.2f%%\" % area_low)"
   ]
  },
  {
   "cell_type": "markdown",
   "metadata": {},
   "source": [
    "## Weighted average\n",
    "With these six numbers, we can then calculate a first-order estimate of mortality (which we assume translates directly to carbon loss) through simple multiplication."
   ]
  },
  {
   "cell_type": "code",
   "execution_count": 27,
   "metadata": {},
   "outputs": [
    {
     "name": "stdout",
     "output_type": "stream",
     "text": [
      "Weighted Mortality: 47.49%\n"
     ]
    }
   ],
   "source": [
    "print(\"Weighted Mortality: %.2f%%\" % ((area_high * high_mortality + area_mixed * mixed_mortality + area_low * low_mortality)/100 ))"
   ]
  }
 ],
 "metadata": {
  "kernelspec": {
   "display_name": "Python 3",
   "language": "python",
   "name": "python3"
  },
  "language_info": {
   "codemirror_mode": {
    "name": "ipython",
    "version": 3
   },
   "file_extension": ".py",
   "mimetype": "text/x-python",
   "name": "python",
   "nbconvert_exporter": "python",
   "pygments_lexer": "ipython3",
   "version": "3.7.8"
  }
 },
 "nbformat": 4,
 "nbformat_minor": 4
}
