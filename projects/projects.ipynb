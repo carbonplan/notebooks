{
 "cells": [
  {
   "cell_type": "markdown",
   "metadata": {},
   "source": [
    "# CarbonPlan Project Reports API Demo\n",
    "\n",
    "This notebook demonstrates how to use CarbonPlan's API to access and analyze\n",
    "project reports.\n"
   ]
  },
  {
   "cell_type": "code",
   "execution_count": null,
   "metadata": {},
   "outputs": [],
   "source": [
    "import requests\n",
    "import pandas as pd\n",
    "import altair as alt\n",
    "\n",
    "from IPython.display import JSON\n",
    "\n",
    "\n",
    "alt.themes.enable(\"carbonplan_light\")"
   ]
  },
  {
   "cell_type": "markdown",
   "metadata": {},
   "source": [
    "### Schema\n",
    "\n",
    "All API access is over HTTPS, and accessed from https://api.carbonplan.org. All\n",
    "data is sent and received as JSON. The full schema is available via the API:\n"
   ]
  },
  {
   "cell_type": "code",
   "execution_count": null,
   "metadata": {},
   "outputs": [],
   "source": [
    "schema = requests.get(\"https://api.carbonplan.org/schema.json\").json()\n",
    "\n",
    "# list objects defined in CarbonPlan's schema\n",
    "JSON(schema)"
   ]
  },
  {
   "cell_type": "code",
   "execution_count": null,
   "metadata": {},
   "outputs": [],
   "source": [
    "# or get the full schema for a specific object\n",
    "schema = requests.get(\n",
    "    \"https://api.carbonplan.org/schema/ProjectCollection.json\"\n",
    ").json()\n",
    "JSON(schema)"
   ]
  },
  {
   "cell_type": "markdown",
   "metadata": {},
   "source": [
    "### Projects\n",
    "\n",
    "CarbonPlan's full ProjectCollection is available at\n",
    "https://api.carbonplan.org/projects.json:\n"
   ]
  },
  {
   "cell_type": "code",
   "execution_count": null,
   "metadata": {},
   "outputs": [],
   "source": [
    "project_collection = requests.get(\n",
    "    \"https://api.carbonplan.org/projects.json\"\n",
    ").json()\n",
    "JSON(project_collection, root=\"project_collection\")"
   ]
  },
  {
   "cell_type": "markdown",
   "metadata": {},
   "source": [
    "Individual projects can be requested using query parameters. In the example\n",
    "below, we point our API request at `id=STRP01`:\n"
   ]
  },
  {
   "cell_type": "code",
   "execution_count": null,
   "metadata": {},
   "outputs": [],
   "source": [
    "one_project = requests.get(\n",
    "    \"https://api.carbonplan.org/projects.json?id=STRP01\"\n",
    ").json()\n",
    "JSON(one_project)"
   ]
  },
  {
   "cell_type": "markdown",
   "metadata": {},
   "source": [
    "The Projects data is also available in CSV format:\n",
    "https://api.carbonplan.org/projects.csv\n"
   ]
  },
  {
   "cell_type": "code",
   "execution_count": null,
   "metadata": {},
   "outputs": [],
   "source": [
    "projects = pd.read_csv(\n",
    "    \"https://api.carbonplan.org/projects.csv\", index_col=\"name\"\n",
    ")\n",
    "projects.head()"
   ]
  },
  {
   "cell_type": "markdown",
   "metadata": {},
   "source": [
    "### Sample Analysis\n",
    "\n",
    "Now that we've gone over how to access CarbonPlan's API, we can turn to some\n",
    "sample analysis. Here we'll simply take the full project collection as read from\n",
    "the CSV endpoint above.\n"
   ]
  },
  {
   "cell_type": "code",
   "execution_count": null,
   "metadata": {},
   "outputs": [],
   "source": [
    "metrics = [\"cost\", \"volume\", \"negativity\", \"permanence\"]\n",
    "metrics_df = pd.DataFrame.from_dict(\n",
    "    {m: projects[f\"('{m}', 'value')\"] for m in metrics}\n",
    ")\n",
    "metrics_df[\"tag\"] = projects[\"('tag', 0)\"]\n",
    "metrics_df.head()"
   ]
  },
  {
   "cell_type": "markdown",
   "metadata": {},
   "source": [
    "From here, we can start doing some real analysis and data visualization with our\n",
    "metrics `DataFrame`.\n",
    "\n",
    "In the section below, we'll make a few of charts that are shown on\n",
    "https://reports.carbonplan.org. We use [Altair](https://altair-viz.github.io/)\n",
    "to make a few interactive vizualizations.\n"
   ]
  },
  {
   "cell_type": "code",
   "execution_count": null,
   "metadata": {},
   "outputs": [],
   "source": [
    "colors = {\n",
    "    \"mineralization\": \"#a9b4c4\",\n",
    "    \"soil\": \"#ea9755\",\n",
    "    \"biomass\": \"#d4c05e\",\n",
    "    \"forests\": \"#7eb36a\",\n",
    "    \"ocean\": \"#64b9c4\",\n",
    "    \"dac\": \"#bc85d9\",\n",
    "}\n",
    "color_scale = alt.Color(\n",
    "    \"tag:N\",\n",
    "    scale=alt.Scale(domain=list(colors.keys()), range=list(colors.values())),\n",
    ")\n",
    "tooltip = [\"name\", \"volume\", \"cost\", \"permanence\", \"negativity\"]"
   ]
  },
  {
   "cell_type": "code",
   "execution_count": null,
   "metadata": {},
   "outputs": [],
   "source": [
    "# selectors\n",
    "brush = alt.selection_interval(encodings=[\"x\", \"y\"])\n",
    "click = alt.selection_multi()\n",
    "\n",
    "# chart\n",
    "chart = (\n",
    "    alt.Chart(metrics_df.reset_index())\n",
    "    .mark_circle(size=200)\n",
    "    .encode(\n",
    "        color=color_scale,\n",
    "        opacity=alt.condition(\n",
    "            brush | click, alt.OpacityValue(1), alt.OpacityValue(0.4)\n",
    "        ),\n",
    "        tooltip=tooltip,\n",
    "    )\n",
    "    .properties(width=250, height=250)\n",
    "    .add_selection(brush, click)\n",
    ")\n",
    "\n",
    "# hconcat\n",
    "(\n",
    "    chart.encode(\n",
    "        alt.X(\n",
    "            \"cost\",\n",
    "            axis=alt.Axis(title=\"COST $/tCO2\", tickCount=3),\n",
    "            scale=alt.Scale(type=\"log\", domain=[2, 2000], nice=False),\n",
    "        ),\n",
    "        alt.Y(\"tag\", axis=alt.Axis(title=\"\")),\n",
    "    )\n",
    "    | chart.encode(\n",
    "        alt.X(\n",
    "            \"volume\",\n",
    "            axis=alt.Axis(title=\"VOLUME tCO2\", tickCount=3),\n",
    "            scale=alt.Scale(type=\"log\", domain=[2, 100000000]),\n",
    "        ),\n",
    "        alt.Y(\"tag\", axis=alt.Axis(title=\"\")),\n",
    "    )\n",
    "    | chart.encode(\n",
    "        alt.X(\n",
    "            \"negativity\",\n",
    "            axis=alt.Axis(title=\"NEGATIVITY\", tickCount=2),\n",
    "            scale=alt.Scale(domain=[-0.1, 1.1]),\n",
    "        ),\n",
    "        alt.Y(\"tag\", axis=alt.Axis(title=\"\")),\n",
    "    )\n",
    "    | chart.encode(\n",
    "        alt.X(\n",
    "            \"permanence\",\n",
    "            axis=alt.Axis(title=\"PERMANENCE years\", tickCount=3),\n",
    "            scale=alt.Scale(type=\"log\", domain=[0.6, 2000], nice=False),\n",
    "        ),\n",
    "        alt.Y(\"tag\", axis=alt.Axis(title=\"\")),\n",
    "    )\n",
    ").configure_axis(grid=False).resolve_scale(y=\"shared\")"
   ]
  },
  {
   "cell_type": "markdown",
   "metadata": {},
   "source": [
    "We can also explore interactions among variables:\n"
   ]
  },
  {
   "cell_type": "code",
   "execution_count": null,
   "metadata": {},
   "outputs": [],
   "source": [
    "# chart\n",
    "chart = (\n",
    "    alt.Chart(metrics_df.reset_index())\n",
    "    .mark_circle(size=200)\n",
    "    .encode(\n",
    "        color=color_scale,\n",
    "        opacity=alt.condition(\n",
    "            brush | click, alt.OpacityValue(1), alt.OpacityValue(0.4)\n",
    "        ),\n",
    "        tooltip=tooltip,\n",
    "    )\n",
    "    .properties(width=250, height=250)\n",
    "    .add_selection(brush, click)\n",
    ")\n",
    "\n",
    "# hconcat\n",
    "(\n",
    "    chart.encode(\n",
    "        alt.X(\n",
    "            \"volume\",\n",
    "            axis=alt.Axis(title=\"VOLUME tCO2\", tickCount=3),\n",
    "            scale=alt.Scale(type=\"log\", domain=[2, 100000000]),\n",
    "        ),\n",
    "        alt.Y(\n",
    "            \"cost\",\n",
    "            axis=alt.Axis(title=\"COST $/tCO2\", tickCount=3),\n",
    "            scale=alt.Scale(type=\"log\", domain=[2, 2000], nice=False),\n",
    "        ),\n",
    "    )\n",
    "    | chart.encode(\n",
    "        alt.X(\n",
    "            \"permanence\",\n",
    "            axis=alt.Axis(title=\"PERMANENCE years\", tickCount=3),\n",
    "            scale=alt.Scale(type=\"log\", domain=[0.6, 2000], nice=False),\n",
    "        ),\n",
    "        alt.Y(\n",
    "            \"cost\",\n",
    "            axis=alt.Axis(title=\"COST $/tCO2\", tickCount=3),\n",
    "            scale=alt.Scale(type=\"log\", domain=[2, 2000], nice=False),\n",
    "        ),\n",
    "    )\n",
    ").configure_axis(grid=False).resolve_scale(y=\"shared\")"
   ]
  }
 ],
 "metadata": {
  "kernelspec": {
   "display_name": "Python 3",
   "language": "python",
   "name": "python3"
  },
  "language_info": {
   "codemirror_mode": {
    "name": "ipython",
    "version": 3
   },
   "file_extension": ".py",
   "mimetype": "text/x-python",
   "name": "python",
   "nbconvert_exporter": "python",
   "pygments_lexer": "ipython3",
   "version": "3.7.8"
  }
 },
 "nbformat": 4,
 "nbformat_minor": 4
}
